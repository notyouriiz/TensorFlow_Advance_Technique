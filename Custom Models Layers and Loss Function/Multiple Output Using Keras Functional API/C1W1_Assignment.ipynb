{
 "cells": [
  {
   "cell_type": "markdown",
   "metadata": {
    "colab_type": "text",
    "id": "ZL_6GK8qX35J"
   },
   "source": [
    "\n",
    "\n",
    "# Week 1: Multiple Output Models using the Keras Functional API\n",
    "\n",
    "Welcome to the first programming assignment of the course! Your task will be to use the Keras functional API to train a model to predict two outputs. For this lab, you will use the **[Wine Quality Dataset](https://archive.ics.uci.edu/ml/datasets/Wine+Quality)** from the **UCI machine learning repository**. It has separate datasets for red wine and white wine.\n",
    "\n",
    "Normally, the wines are classified into one of the quality ratings specified in the attributes. In this exercise, you will combine the two datasets to predict the wine quality and whether the wine is red or white solely from the attributes. \n",
    "\n",
    "You will model wine quality estimations as a regression problem and wine type detection as a binary classification problem.\n",
    "\n",
    "#### Please complete sections that are marked **(TODO)**"
   ]
  },
  {
   "cell_type": "markdown",
   "metadata": {
    "colab_type": "text",
    "id": "obdcD6urYBY9"
   },
   "source": [
    "## Imports"
   ]
  },
  {
   "cell_type": "code",
   "execution_count": 1,
   "metadata": {
    "colab": {},
    "colab_type": "code",
    "id": "t8N3pcTQ5oQI"
   },
   "outputs": [],
   "source": [
    "import tensorflow as tf\n",
    "from tensorflow.keras.models import Model\n",
    "from tensorflow.keras.layers import Dense, Input\n",
    "\n",
    "import numpy as np\n",
    "import matplotlib.pyplot as plt\n",
    "import pandas as pd\n",
    "from sklearn.model_selection import train_test_split\n",
    "from sklearn.metrics import confusion_matrix, ConfusionMatrixDisplay\n",
    "import itertools\n",
    "\n",
    "import utils"
   ]
  },
  {
   "cell_type": "markdown",
   "metadata": {
    "colab_type": "text",
    "id": "gQMERzWQYpgm"
   },
   "source": [
    "## Load Dataset\n",
    "\n",
    "\n",
    "You will now load the dataset from the [UCI Machine Learning Repository](https://archive.ics.uci.edu/ml/index.php) which are **already saved** in your workspace (*Note: For successful grading, please **do not** modify the default string set to the `URI` variable below*).\n",
    "\n",
    "### Pre-process the white wine dataset (TODO)\n",
    "You will add a new column named `is_red` in your dataframe to indicate if the wine is white or red. \n",
    "- In the white wine dataset, you will fill the column `is_red` with  zeros (0)."
   ]
  },
  {
   "cell_type": "code",
   "execution_count": 2,
   "metadata": {
    "colab": {},
    "colab_type": "code",
    "deletable": false,
    "id": "2qYAjKXCd4RH",
    "nbgrader": {
     "cell_type": "code",
     "checksum": "325ea195519b7035934c95bb529a062c",
     "grade": false,
     "grade_id": "cell-e5bfa0f152d9a21f",
     "locked": false,
     "schema_version": 3,
     "solution": true,
     "task": false
    }
   },
   "outputs": [],
   "source": [
    "# Please uncomment all lines in this cell and replace those marked with `# YOUR CODE HERE`.\n",
    "# You can select all lines in this code cell with Ctrl+A (Windows/Linux) or Cmd+A (Mac), then press Ctrl+/ (Windows/Linux) or Cmd+/ (Mac) to uncomment.\n",
    "\n",
    "\n",
    "\n",
    "# URL of the white wine dataset\n",
    "URI = './winequality-white.csv'\n",
    "\n",
    "# load the dataset from the URL\n",
    "white_df = pd.read_csv(URI, sep=\";\")\n",
    "\n",
    "# fill the `is_red` column with zeros.\n",
    "white_df[\"is_red\"] = 0\n",
    "\n",
    "# keep only the first of duplicate items\n",
    "white_df = white_df.drop_duplicates(keep='first')\n"
   ]
  },
  {
   "cell_type": "code",
   "execution_count": 3,
   "metadata": {
    "deletable": false,
    "editable": false,
    "nbgrader": {
     "cell_type": "code",
     "checksum": "defe38d6ec58fd31cd67b89e46c4373f",
     "grade": true,
     "grade_id": "cell-30575e713b55fc51",
     "locked": true,
     "points": 1,
     "schema_version": 3,
     "solution": false,
     "task": false
    }
   },
   "outputs": [
    {
     "name": "stdout",
     "output_type": "stream",
     "text": [
      "\u001b[92m All public tests passed\n"
     ]
    }
   ],
   "source": [
    "# You can click `File -> Open` in the menu above and open the `utils.py` file \n",
    "# in case you want to inspect the unit tests being used for each graded function.\n",
    "\n",
    "utils.test_white_df(white_df)\n"
   ]
  },
  {
   "cell_type": "code",
   "execution_count": 4,
   "metadata": {
    "colab": {},
    "colab_type": "code",
    "id": "OQHK0ohBQRCk"
   },
   "outputs": [
    {
     "name": "stdout",
     "output_type": "stream",
     "text": [
      "8.8\n",
      "9.1\n"
     ]
    }
   ],
   "source": [
    "print(white_df.alcohol[0])\n",
    "print(white_df.alcohol[100])\n",
    "\n",
    "# EXPECTED OUTPUT\n",
    "# 8.8\n",
    "# 9.1"
   ]
  },
  {
   "cell_type": "markdown",
   "metadata": {},
   "source": [
    "### Pre-process the red wine dataset (TODO)\n",
    "- In the red wine dataset, you will fill in the column `is_red` with ones (1)."
   ]
  },
  {
   "cell_type": "code",
   "execution_count": 5,
   "metadata": {
    "colab": {},
    "colab_type": "code",
    "deletable": false,
    "id": "8y3QxKwBed8v",
    "nbgrader": {
     "cell_type": "code",
     "checksum": "12e0963d15be33b01b4e6ebc8945e51e",
     "grade": false,
     "grade_id": "cell-e47a40f306593274",
     "locked": false,
     "schema_version": 3,
     "solution": true,
     "task": false
    }
   },
   "outputs": [],
   "source": [
    "# Please uncomment all lines in this cell and replace those marked with `# YOUR CODE HERE`.\n",
    "# You can select all lines in this code cell with Ctrl+A (Windows/Linux) or Cmd+A (Mac), then press Ctrl+/ (Windows/Linux) or Cmd+/ (Mac) to uncomment.\n",
    "\n",
    "\n",
    "\n",
    "# URL of the red wine dataset\n",
    "URI = './winequality-red.csv'\n",
    "\n",
    "# load the dataset from the URL\n",
    "red_df = pd.read_csv(URI, sep=\";\")\n",
    "\n",
    "# fill the `is_red` column with ones.\n",
    "red_df[\"is_red\"] = 1 # YOUR CODE HERE\n",
    "\n",
    "# keep only the first of duplicate items\n",
    "red_df = red_df.drop_duplicates(keep='first')\n"
   ]
  },
  {
   "cell_type": "code",
   "execution_count": 6,
   "metadata": {
    "deletable": false,
    "editable": false,
    "nbgrader": {
     "cell_type": "code",
     "checksum": "d8e0c91b0fd668b63ba74a8f2f958b59",
     "grade": true,
     "grade_id": "cell-2a75937adcc0c25b",
     "locked": true,
     "points": 1,
     "schema_version": 3,
     "solution": false,
     "task": false
    }
   },
   "outputs": [
    {
     "name": "stdout",
     "output_type": "stream",
     "text": [
      "\u001b[92m All public tests passed\n"
     ]
    }
   ],
   "source": [
    "utils.test_red_df(red_df)\n"
   ]
  },
  {
   "cell_type": "code",
   "execution_count": 7,
   "metadata": {
    "colab": {},
    "colab_type": "code",
    "id": "zsB3LUzNQpo_"
   },
   "outputs": [
    {
     "name": "stdout",
     "output_type": "stream",
     "text": [
      "9.4\n",
      "10.2\n"
     ]
    }
   ],
   "source": [
    "print(red_df.alcohol[0])\n",
    "print(red_df.alcohol[100])\n",
    "\n",
    "# EXPECTED OUTPUT\n",
    "# 9.4\n",
    "# 10.2"
   ]
  },
  {
   "cell_type": "markdown",
   "metadata": {
    "colab_type": "text",
    "id": "2G8B-NYuM6-f"
   },
   "source": [
    "### Concatenate the datasets\n",
    "\n",
    "Next, concatenate the red and white wine dataframes."
   ]
  },
  {
   "cell_type": "code",
   "execution_count": 8,
   "metadata": {
    "colab": {},
    "colab_type": "code",
    "id": "YpQrOjJbfN3m"
   },
   "outputs": [],
   "source": [
    "df = pd.concat([red_df, white_df], ignore_index=True)"
   ]
  },
  {
   "cell_type": "code",
   "execution_count": 9,
   "metadata": {
    "colab": {},
    "colab_type": "code",
    "id": "Se2dTmThQyjb"
   },
   "outputs": [
    {
     "name": "stdout",
     "output_type": "stream",
     "text": [
      "9.4\n",
      "9.5\n"
     ]
    }
   ],
   "source": [
    "print(df.alcohol[0])\n",
    "print(df.alcohol[100])\n",
    "\n",
    "# EXPECTED OUTPUT\n",
    "# 9.4\n",
    "# 9.5"
   ]
  },
  {
   "cell_type": "markdown",
   "metadata": {},
   "source": [
    "In a real-world scenario, you should shuffle the data. For this assignment however, **you are not** going to do that because the grader needs to test with deterministic data. If you want the code to do it **after** you've gotten your grade for this notebook, we left the commented line below for reference"
   ]
  },
  {
   "cell_type": "code",
   "execution_count": 10,
   "metadata": {
    "colab": {},
    "colab_type": "code",
    "id": "wx6y3rPpQv4k"
   },
   "outputs": [],
   "source": [
    "df = df.iloc[np.random.permutation(len(df))]"
   ]
  },
  {
   "cell_type": "markdown",
   "metadata": {
    "colab_type": "text",
    "id": "-EqIcbg5M_n1"
   },
   "source": [
    "This will chart the quality of the wines."
   ]
  },
  {
   "cell_type": "code",
   "execution_count": 11,
   "metadata": {
    "colab": {},
    "colab_type": "code",
    "id": "IsvK0-Sgy17C"
   },
   "outputs": [
    {
     "data": {
      "image/png": "[encoded data removed]",
      "text/plain": [
       "<Figure size 432x288 with 1 Axes>"
      ]
     },
     "metadata": {
      "needs_background": "light"
     },
     "output_type": "display_data"
    }
   ],
   "source": [
    "df['quality'].hist(bins=20);"
   ]
  },
  {
   "cell_type": "markdown",
   "metadata": {
    "colab_type": "text",
    "id": "Nut1rmYLzf-p"
   },
   "source": [
    "### Imbalanced data (TODO)\n",
    "You can see from the plot above that the wine quality dataset is imbalanced. \n",
    "- Since there are very few observations with quality equal to 3, 4, 8 and 9, you can drop these observations from your dataset. \n",
    "- You can do this by removing data belonging to all classes except those > 4 and < 8."
   ]
  },
  {
   "cell_type": "code",
   "execution_count": null,
   "metadata": {
    "deletable": false,
    "editable": false,
    "nbgrader": {
     "cell_type": "code",
     "checksum": "281e1d86a4803560ed5892cd7eda4c01",
     "grade": true,
     "grade_id": "cell-aed3da719d4682c7",
     "locked": true,
     "points": 1,
     "schema_version": 3,
     "solution": false,
     "task": false
    }
   },
   "outputs": [],
   "source": [
    "utils.test_df_drop(df)\n",
    "\n"
   ]
  },
  {
   "cell_type": "code",
   "execution_count": 22,
   "metadata": {
    "colab": {},
    "colab_type": "code",
    "deletable": false,
    "id": "doH9_-gnf3sz",
    "nbgrader": {
     "cell_type": "code",
     "checksum": "d9ba9fc3a3ca02ccc567be33652b80fe",
     "grade": false,
     "grade_id": "cell-6a3e9db696f6827b",
     "locked": false,
     "schema_version": 3,
     "solution": true,
     "task": false
    }
   },
   "outputs": [],
   "source": [
    "# Please uncomment all lines in this cell and replace those marked with `# YOUR CODE HERE`.\n",
    "# You can select all lines in this code cell with Ctrl+A (Windows/Linux) or Cmd+A (Mac), then press Ctrl+/ (Windows/Linux) or Cmd+/ (Mac) to uncomment.\n",
    "\n",
    "\n",
    "\n",
    "# get data with wine quality greater than 4 and less than 8\n",
    "df = df[(df['quality'] > 4) & (df['quality'] < 8 )]\n",
    "\n",
    "# reset index and drop the old one\n",
    "df = df.reset_index(drop=True)"
   ]
  },
  {
   "cell_type": "code",
   "execution_count": 23,
   "metadata": {
    "colab": {},
    "colab_type": "code",
    "id": "xNR1iAlMRPXO"
   },
   "outputs": [
    {
     "name": "stdout",
     "output_type": "stream",
     "text": [
      "12.2\n",
      "9.1\n"
     ]
    }
   ],
   "source": [
    "print(df.alcohol[0])\n",
    "print(df.alcohol[100])\n",
    "\n",
    "# EXPECTED OUTPUT\n",
    "# 9.4\n",
    "# 10.9"
   ]
  },
  {
   "cell_type": "markdown",
   "metadata": {
    "colab_type": "text",
    "id": "cwhuRpnVRTzG"
   },
   "source": [
    "You can plot again to see the new range of data and quality"
   ]
  },
  {
   "cell_type": "code",
   "execution_count": 24,
   "metadata": {
    "colab": {},
    "colab_type": "code",
    "id": "857ygzZiLgGg"
   },
   "outputs": [
    {
     "data": {
      "image/png": "[encoded data removed]",
      "text/plain": [
       "<Figure size 432x288 with 1 Axes>"
      ]
     },
     "metadata": {
      "needs_background": "light"
     },
     "output_type": "display_data"
    }
   ],
   "source": [
    "df['quality'].hist(bins=20);"
   ]
  },
  {
   "cell_type": "markdown",
   "metadata": {
    "colab_type": "text",
    "id": "n3k0vqSsp84t"
   },
   "source": [
    "### Train Test Split (TODO)\n",
    "\n",
    "Next, you can split the datasets into training, test and validation datasets.\n",
    "- The data frame should be split 80:20 into `train` and `test` sets.\n",
    "- The resulting `train` should then be split 80:20 into `train` and `val` sets.\n",
    "- The `train_test_split` parameter `test_size` takes a float value that ranges between 0. and 1, and represents the proportion of the dataset that is allocated to the test set.  The rest of the data is allocated to the training set."
   ]
  },
  {
   "cell_type": "code",
   "execution_count": 30,
   "metadata": {
    "colab": {},
    "colab_type": "code",
    "deletable": false,
    "id": "PAVIf2-fgRVY",
    "nbgrader": {
     "cell_type": "code",
     "checksum": "7f5738f4fb51d65adc9a8acbdf2b9970",
     "grade": false,
     "grade_id": "cell-91946cadf745206b",
     "locked": false,
     "schema_version": 3,
     "solution": true,
     "task": false
    }
   },
   "outputs": [],
   "source": [
    "# Please uncomment all lines in this cell and replace those marked with `# YOUR CODE HERE`.\n",
    "# You can select all lines in this code cell with Ctrl+A (Windows/Linux) or Cmd+A (Mac), then press Ctrl+/ (Windows/Linux) or Cmd+/ (Mac) to uncomment.\n",
    "\n",
    "\n",
    "\n",
    "# Please do not change the random_state parameter. This is needed for grading.\n",
    "\n",
    "# split df into 80:20 train and test sets\n",
    "train, test = train_test_split(df, test_size=0.2, random_state = 1)\n",
    "                               \n",
    "# split train into 80:20 train and val sets\n",
    "train, val = train_test_split(train, test_size=0.2, random_state = 1)"
   ]
  },
  {
   "cell_type": "code",
   "execution_count": 31,
   "metadata": {
    "colab": {},
    "colab_type": "code",
    "deletable": false,
    "editable": false,
    "id": "57h9LcEzRWpk",
    "nbgrader": {
     "cell_type": "code",
     "checksum": "42adbe9e66efac7c7a5f8cd73ac92f22",
     "grade": true,
     "grade_id": "cell-64b8b38cd0b965f6",
     "locked": true,
     "points": 1,
     "schema_version": 3,
     "solution": false,
     "task": false
    }
   },
   "outputs": [
    {
     "name": "stdout",
     "output_type": "stream",
     "text": [
      "\u001b[92m All public tests passed\n"
     ]
    }
   ],
   "source": [
    "utils.test_data_sizes(train.size, test.size, val.size)\n",
    "\n"
   ]
  },
  {
   "cell_type": "markdown",
   "metadata": {
    "colab_type": "text",
    "id": "RwTNu4KFqG-K"
   },
   "source": [
    "Here's where you can explore the training stats. You can pop the labels 'is_red' and 'quality' from the data as these will be used as the labels\n"
   ]
  },
  {
   "cell_type": "code",
   "execution_count": 32,
   "metadata": {
    "colab": {},
    "colab_type": "code",
    "id": "Y_afyhhHM6WQ"
   },
   "outputs": [],
   "source": [
    "train_stats = train.describe()\n",
    "train_stats.pop('is_red')\n",
    "train_stats.pop('quality')\n",
    "train_stats = train_stats.transpose()"
   ]
  },
  {
   "cell_type": "markdown",
   "metadata": {
    "colab_type": "text",
    "id": "ahvbYm4fNqSt"
   },
   "source": [
    "Explore the training stats!"
   ]
  },
  {
   "cell_type": "code",
   "execution_count": 33,
   "metadata": {
    "colab": {},
    "colab_type": "code",
    "id": "n_gAtPjZ0otF"
   },
   "outputs": [
    {
     "data": {
      "text/html": [
       "<div>\n",
       "<style scoped>\n",
       "    .dataframe tbody tr th:only-of-type {\n",
       "        vertical-align: middle;\n",
       "    }\n",
       "\n",
       "    .dataframe tbody tr th {\n",
       "        vertical-align: top;\n",
       "    }\n",
       "\n",
       "    .dataframe thead th {\n",
       "        text-align: right;\n",
       "    }\n",
       "</style>\n",
       "<table border=\"1\" class=\"dataframe\">\n",
       "  <thead>\n",
       "    <tr style=\"text-align: right;\">\n",
       "      <th></th>\n",
       "      <th>count</th>\n",
       "      <th>mean</th>\n",
       "      <th>std</th>\n",
       "      <th>min</th>\n",
       "      <th>25%</th>\n",
       "      <th>50%</th>\n",
       "      <th>75%</th>\n",
       "      <th>max</th>\n",
       "    </tr>\n",
       "  </thead>\n",
       "  <tbody>\n",
       "    <tr>\n",
       "      <th>fixed acidity</th>\n",
       "      <td>3155.0</td>\n",
       "      <td>7.196117</td>\n",
       "      <td>1.309418</td>\n",
       "      <td>3.8000</td>\n",
       "      <td>6.4000</td>\n",
       "      <td>7.00000</td>\n",
       "      <td>7.7000</td>\n",
       "      <td>15.6000</td>\n",
       "    </tr>\n",
       "    <tr>\n",
       "      <th>volatile acidity</th>\n",
       "      <td>3155.0</td>\n",
       "      <td>0.338279</td>\n",
       "      <td>0.161495</td>\n",
       "      <td>0.0800</td>\n",
       "      <td>0.2300</td>\n",
       "      <td>0.29000</td>\n",
       "      <td>0.4000</td>\n",
       "      <td>1.3300</td>\n",
       "    </tr>\n",
       "    <tr>\n",
       "      <th>citric acid</th>\n",
       "      <td>3155.0</td>\n",
       "      <td>0.318466</td>\n",
       "      <td>0.144300</td>\n",
       "      <td>0.0000</td>\n",
       "      <td>0.2400</td>\n",
       "      <td>0.31000</td>\n",
       "      <td>0.3900</td>\n",
       "      <td>1.0000</td>\n",
       "    </tr>\n",
       "    <tr>\n",
       "      <th>residual sugar</th>\n",
       "      <td>3155.0</td>\n",
       "      <td>5.047987</td>\n",
       "      <td>4.477504</td>\n",
       "      <td>0.7000</td>\n",
       "      <td>1.7750</td>\n",
       "      <td>2.70000</td>\n",
       "      <td>7.5000</td>\n",
       "      <td>26.0500</td>\n",
       "    </tr>\n",
       "    <tr>\n",
       "      <th>chlorides</th>\n",
       "      <td>3155.0</td>\n",
       "      <td>0.056988</td>\n",
       "      <td>0.037110</td>\n",
       "      <td>0.0090</td>\n",
       "      <td>0.0380</td>\n",
       "      <td>0.04700</td>\n",
       "      <td>0.0670</td>\n",
       "      <td>0.6110</td>\n",
       "    </tr>\n",
       "    <tr>\n",
       "      <th>free sulfur dioxide</th>\n",
       "      <td>3155.0</td>\n",
       "      <td>30.655309</td>\n",
       "      <td>17.319674</td>\n",
       "      <td>1.0000</td>\n",
       "      <td>17.0000</td>\n",
       "      <td>29.00000</td>\n",
       "      <td>41.0000</td>\n",
       "      <td>131.0000</td>\n",
       "    </tr>\n",
       "    <tr>\n",
       "      <th>total sulfur dioxide</th>\n",
       "      <td>3155.0</td>\n",
       "      <td>115.040729</td>\n",
       "      <td>56.481936</td>\n",
       "      <td>6.0000</td>\n",
       "      <td>76.0000</td>\n",
       "      <td>117.00000</td>\n",
       "      <td>155.0000</td>\n",
       "      <td>344.0000</td>\n",
       "    </tr>\n",
       "    <tr>\n",
       "      <th>density</th>\n",
       "      <td>3155.0</td>\n",
       "      <td>0.994532</td>\n",
       "      <td>0.002896</td>\n",
       "      <td>0.9874</td>\n",
       "      <td>0.9922</td>\n",
       "      <td>0.99467</td>\n",
       "      <td>0.9968</td>\n",
       "      <td>1.0032</td>\n",
       "    </tr>\n",
       "    <tr>\n",
       "      <th>pH</th>\n",
       "      <td>3155.0</td>\n",
       "      <td>3.224669</td>\n",
       "      <td>0.159354</td>\n",
       "      <td>2.7900</td>\n",
       "      <td>3.1200</td>\n",
       "      <td>3.21000</td>\n",
       "      <td>3.3300</td>\n",
       "      <td>4.0100</td>\n",
       "    </tr>\n",
       "    <tr>\n",
       "      <th>sulphates</th>\n",
       "      <td>3155.0</td>\n",
       "      <td>0.532986</td>\n",
       "      <td>0.149680</td>\n",
       "      <td>0.2200</td>\n",
       "      <td>0.4300</td>\n",
       "      <td>0.51000</td>\n",
       "      <td>0.6000</td>\n",
       "      <td>1.9800</td>\n",
       "    </tr>\n",
       "    <tr>\n",
       "      <th>alcohol</th>\n",
       "      <td>3155.0</td>\n",
       "      <td>10.533195</td>\n",
       "      <td>1.166466</td>\n",
       "      <td>8.0000</td>\n",
       "      <td>9.5000</td>\n",
       "      <td>10.40000</td>\n",
       "      <td>11.3000</td>\n",
       "      <td>14.2000</td>\n",
       "    </tr>\n",
       "  </tbody>\n",
       "</table>\n",
       "</div>"
      ],
      "text/plain": [
       "                       count        mean        std     min      25%  \\\n",
       "fixed acidity         3155.0    7.196117   1.309418  3.8000   6.4000   \n",
       "volatile acidity      3155.0    0.338279   0.161495  0.0800   0.2300   \n",
       "citric acid           3155.0    0.318466   0.144300  0.0000   0.2400   \n",
       "residual sugar        3155.0    5.047987   4.477504  0.7000   1.7750   \n",
       "chlorides             3155.0    0.056988   0.037110  0.0090   0.0380   \n",
       "free sulfur dioxide   3155.0   30.655309  17.319674  1.0000  17.0000   \n",
       "total sulfur dioxide  3155.0  115.040729  56.481936  6.0000  76.0000   \n",
       "density               3155.0    0.994532   0.002896  0.9874   0.9922   \n",
       "pH                    3155.0    3.224669   0.159354  2.7900   3.1200   \n",
       "sulphates             3155.0    0.532986   0.149680  0.2200   0.4300   \n",
       "alcohol               3155.0   10.533195   1.166466  8.0000   9.5000   \n",
       "\n",
       "                            50%       75%       max  \n",
       "fixed acidity           7.00000    7.7000   15.6000  \n",
       "volatile acidity        0.29000    0.4000    1.3300  \n",
       "citric acid             0.31000    0.3900    1.0000  \n",
       "residual sugar          2.70000    7.5000   26.0500  \n",
       "chlorides               0.04700    0.0670    0.6110  \n",
       "free sulfur dioxide    29.00000   41.0000  131.0000  \n",
       "total sulfur dioxide  117.00000  155.0000  344.0000  \n",
       "density                 0.99467    0.9968    1.0032  \n",
       "pH                      3.21000    3.3300    4.0100  \n",
       "sulphates               0.51000    0.6000    1.9800  \n",
       "alcohol                10.40000   11.3000   14.2000  "
      ]
     },
     "execution_count": 33,
     "metadata": {},
     "output_type": "execute_result"
    }
   ],
   "source": [
    "train_stats"
   ]
  },
  {
   "cell_type": "markdown",
   "metadata": {
    "colab_type": "text",
    "id": "bGPvt9jir_HC"
   },
   "source": [
    "### Get the labels (TODO)\n",
    "\n",
    "The features and labels are currently in the same dataframe.\n",
    "- You will want to store the label columns `is_red` and `quality` separately from the feature columns.  \n",
    "- The following function, `format_output`, gets these two columns from the dataframe (it's given to you).\n",
    "- `format_output` also formats the data into numpy arrays. \n",
    "- Please use the `format_output` and apply it to the `train`, `val` and `test` sets to get dataframes for the labels."
   ]
  },
  {
   "cell_type": "code",
   "execution_count": 34,
   "metadata": {
    "colab": {},
    "colab_type": "code",
    "id": "Z_fs14XQqZVP"
   },
   "outputs": [],
   "source": [
    "def format_output(data):\n",
    "    is_red = data.pop('is_red')\n",
    "    is_red = np.array(is_red)\n",
    "    quality = data.pop('quality')\n",
    "    quality = np.array(quality)\n",
    "    return (quality, is_red)"
   ]
  },
  {
   "cell_type": "code",
   "execution_count": 35,
   "metadata": {
    "colab": {},
    "colab_type": "code",
    "deletable": false,
    "id": "8L3ZZe1fQicm",
    "nbgrader": {
     "cell_type": "code",
     "checksum": "7a86809e54895a816434c48dc903f55d",
     "grade": false,
     "grade_id": "cell-5c30fa2c2a354b0f",
     "locked": false,
     "schema_version": 3,
     "solution": true,
     "task": false
    }
   },
   "outputs": [],
   "source": [
    "# Please uncomment all lines in this cell and replace those marked with `# YOUR CODE HERE`.\n",
    "# You can select all lines in this code cell with Ctrl+A (Windows/Linux) or Cmd+A (Mac), then press Ctrl+/ (Windows/Linux) or Cmd+/ (Mac) to uncomment.\n",
    "\n",
    "\n",
    "\n",
    "# format the output of the train set\n",
    "train_Y = format_output(train)\n",
    "\n",
    "# format the output of the val set\n",
    "val_Y = format_output(val)\n",
    "    \n",
    "# format the output of the test set\n",
    "test_Y = format_output(test)"
   ]
  },
  {
   "cell_type": "code",
   "execution_count": 36,
   "metadata": {
    "deletable": false,
    "editable": false,
    "nbgrader": {
     "cell_type": "code",
     "checksum": "359cabbafaed14ec9bbc1e57a7b6f32c",
     "grade": true,
     "grade_id": "cell-4977d8befb80f56b",
     "locked": true,
     "points": 1,
     "schema_version": 3,
     "solution": false,
     "task": false
    }
   },
   "outputs": [
    {
     "name": "stdout",
     "output_type": "stream",
     "text": [
      "\u001b[92m All public tests passed\n"
     ]
    }
   ],
   "source": [
    "utils.test_format_output(df, train_Y, val_Y, test_Y)"
   ]
  },
  {
   "cell_type": "markdown",
   "metadata": {},
   "source": [
    "Notice that after you get the labels, the `train`, `val` and `test` dataframes no longer contain the label columns, and contain just the feature columns.\n",
    "- This is because you used `.pop` in the `format_output` function."
   ]
  },
  {
   "cell_type": "code",
   "execution_count": 37,
   "metadata": {},
   "outputs": [
    {
     "data": {
      "text/html": [
       "<div>\n",
       "<style scoped>\n",
       "    .dataframe tbody tr th:only-of-type {\n",
       "        vertical-align: middle;\n",
       "    }\n",
       "\n",
       "    .dataframe tbody tr th {\n",
       "        vertical-align: top;\n",
       "    }\n",
       "\n",
       "    .dataframe thead th {\n",
       "        text-align: right;\n",
       "    }\n",
       "</style>\n",
       "<table border=\"1\" class=\"dataframe\">\n",
       "  <thead>\n",
       "    <tr style=\"text-align: right;\">\n",
       "      <th></th>\n",
       "      <th>fixed acidity</th>\n",
       "      <th>volatile acidity</th>\n",
       "      <th>citric acid</th>\n",
       "      <th>residual sugar</th>\n",
       "      <th>chlorides</th>\n",
       "      <th>free sulfur dioxide</th>\n",
       "      <th>total sulfur dioxide</th>\n",
       "      <th>density</th>\n",
       "      <th>pH</th>\n",
       "      <th>sulphates</th>\n",
       "      <th>alcohol</th>\n",
       "    </tr>\n",
       "  </thead>\n",
       "  <tbody>\n",
       "    <tr>\n",
       "      <th>225</th>\n",
       "      <td>5.0</td>\n",
       "      <td>0.24</td>\n",
       "      <td>0.19</td>\n",
       "      <td>5.0</td>\n",
       "      <td>0.043</td>\n",
       "      <td>17.0</td>\n",
       "      <td>101.0</td>\n",
       "      <td>0.99438</td>\n",
       "      <td>3.67</td>\n",
       "      <td>0.57</td>\n",
       "      <td>10.0</td>\n",
       "    </tr>\n",
       "    <tr>\n",
       "      <th>3557</th>\n",
       "      <td>7.2</td>\n",
       "      <td>0.20</td>\n",
       "      <td>0.34</td>\n",
       "      <td>2.7</td>\n",
       "      <td>0.032</td>\n",
       "      <td>49.0</td>\n",
       "      <td>151.0</td>\n",
       "      <td>0.99000</td>\n",
       "      <td>3.16</td>\n",
       "      <td>0.39</td>\n",
       "      <td>12.7</td>\n",
       "    </tr>\n",
       "    <tr>\n",
       "      <th>3825</th>\n",
       "      <td>7.7</td>\n",
       "      <td>0.29</td>\n",
       "      <td>0.48</td>\n",
       "      <td>2.3</td>\n",
       "      <td>0.049</td>\n",
       "      <td>36.0</td>\n",
       "      <td>178.0</td>\n",
       "      <td>0.99310</td>\n",
       "      <td>3.17</td>\n",
       "      <td>0.64</td>\n",
       "      <td>10.6</td>\n",
       "    </tr>\n",
       "    <tr>\n",
       "      <th>1740</th>\n",
       "      <td>6.8</td>\n",
       "      <td>0.15</td>\n",
       "      <td>0.30</td>\n",
       "      <td>5.3</td>\n",
       "      <td>0.050</td>\n",
       "      <td>40.0</td>\n",
       "      <td>127.0</td>\n",
       "      <td>0.99420</td>\n",
       "      <td>3.40</td>\n",
       "      <td>0.39</td>\n",
       "      <td>9.7</td>\n",
       "    </tr>\n",
       "    <tr>\n",
       "      <th>1221</th>\n",
       "      <td>6.5</td>\n",
       "      <td>0.29</td>\n",
       "      <td>0.52</td>\n",
       "      <td>1.7</td>\n",
       "      <td>0.034</td>\n",
       "      <td>41.0</td>\n",
       "      <td>193.0</td>\n",
       "      <td>0.99223</td>\n",
       "      <td>3.25</td>\n",
       "      <td>0.59</td>\n",
       "      <td>10.4</td>\n",
       "    </tr>\n",
       "  </tbody>\n",
       "</table>\n",
       "</div>"
      ],
      "text/plain": [
       "      fixed acidity  volatile acidity  citric acid  residual sugar  chlorides  \\\n",
       "225             5.0              0.24         0.19             5.0      0.043   \n",
       "3557            7.2              0.20         0.34             2.7      0.032   \n",
       "3825            7.7              0.29         0.48             2.3      0.049   \n",
       "1740            6.8              0.15         0.30             5.3      0.050   \n",
       "1221            6.5              0.29         0.52             1.7      0.034   \n",
       "\n",
       "      free sulfur dioxide  total sulfur dioxide  density    pH  sulphates  \\\n",
       "225                  17.0                 101.0  0.99438  3.67       0.57   \n",
       "3557                 49.0                 151.0  0.99000  3.16       0.39   \n",
       "3825                 36.0                 178.0  0.99310  3.17       0.64   \n",
       "1740                 40.0                 127.0  0.99420  3.40       0.39   \n",
       "1221                 41.0                 193.0  0.99223  3.25       0.59   \n",
       "\n",
       "      alcohol  \n",
       "225      10.0  \n",
       "3557     12.7  \n",
       "3825     10.6  \n",
       "1740      9.7  \n",
       "1221     10.4  "
      ]
     },
     "execution_count": 37,
     "metadata": {},
     "output_type": "execute_result"
    }
   ],
   "source": [
    "train.head()"
   ]
  },
  {
   "cell_type": "markdown",
   "metadata": {
    "colab_type": "text",
    "id": "hEdbrruAsN1D"
   },
   "source": [
    "### Normalize the data (TODO)\n",
    "\n",
    "Next, you can normalize the data, x, using the formula:\n",
    "$$x_{norm} = \\frac{x - \\mu}{\\sigma}$$\n",
    "- The `norm` function is defined for you.\n",
    "- Please apply the `norm` function to normalize the dataframes that contains the feature columns of `train`, `val` and `test` sets."
   ]
  },
  {
   "cell_type": "code",
   "execution_count": 39,
   "metadata": {
    "colab": {},
    "colab_type": "code",
    "id": "WWiZPAHCLjUs"
   },
   "outputs": [],
   "source": [
    "def norm(x):\n",
    "    return (x - train_stats['mean']) / train_stats['std']"
   ]
  },
  {
   "cell_type": "code",
   "execution_count": 40,
   "metadata": {
    "colab": {},
    "colab_type": "code",
    "deletable": false,
    "id": "JEaOi2I2Lk69",
    "nbgrader": {
     "cell_type": "code",
     "checksum": "6bc0cdcb563d192f271067aa3373ff32",
     "grade": false,
     "grade_id": "cell-d8416d975c371095",
     "locked": false,
     "schema_version": 3,
     "solution": true,
     "task": false
    }
   },
   "outputs": [],
   "source": [
    "# Please uncomment all lines in this cell and replace those marked with `# YOUR CODE HERE`.\n",
    "# You can select all lines in this code cell with Ctrl+A (Windows/Linux) or Cmd+A (Mac), then press Ctrl+/ (Windows/Linux) or Cmd+/ (Mac) to uncomment.\n",
    "\n",
    "\n",
    "\n",
    "# normalize the train set\n",
    "norm_train_X = norm(train)\n",
    "    \n",
    "# normalize the val set\n",
    "norm_val_X = norm(val)\n",
    "    \n",
    "# normalize the test set\n",
    "norm_test_X = norm(test)"
   ]
  },
  {
   "cell_type": "code",
   "execution_count": 41,
   "metadata": {
    "deletable": false,
    "editable": false,
    "nbgrader": {
     "cell_type": "code",
     "checksum": "4f567db45bf40191601780379cc100b8",
     "grade": true,
     "grade_id": "cell-97fad979d157529b",
     "locked": true,
     "points": 1,
     "schema_version": 3,
     "solution": false,
     "task": false
    }
   },
   "outputs": [
    {
     "name": "stdout",
     "output_type": "stream",
     "text": [
      "\u001b[92m All public tests passed\n"
     ]
    }
   ],
   "source": [
    "utils.test_norm(norm_train_X, norm_val_X, norm_test_X, train, val, test)\n"
   ]
  },
  {
   "cell_type": "markdown",
   "metadata": {
    "colab_type": "text",
    "id": "hzykDwQhsaPO"
   },
   "source": [
    "## Define the Model (TODO)\n",
    "\n",
    "Define the model using the functional API. The base model will be 2 `Dense` layers of 128 neurons each, and have the `'relu'` activation.\n",
    "- Check out the documentation for [tf.keras.layers.Dense](https://www.tensorflow.org/api_docs/python/tf/keras/layers/Dense)"
   ]
  },
  {
   "cell_type": "code",
   "execution_count": 43,
   "metadata": {
    "colab": {},
    "colab_type": "code",
    "deletable": false,
    "id": "Rhcns3oTFkM6",
    "nbgrader": {
     "cell_type": "code",
     "checksum": "74b031247e569526552bf13a034a1c07",
     "grade": false,
     "grade_id": "cell-73fceedad1fe351c",
     "locked": false,
     "schema_version": 3,
     "solution": true,
     "task": false
    }
   },
   "outputs": [],
   "source": [
    "# Please uncomment all lines in this cell and replace those marked with `# YOUR CODE HERE`.\n",
    "# You can select all lines in this code cell with Ctrl+A (Windows/Linux) or Cmd+A (Mac), then press Ctrl+/ (Windows/Linux) or Cmd+/ (Mac) to uncomment.\n",
    "\n",
    "\n",
    "\n",
    "def base_model(inputs):\n",
    "    \n",
    "    # connect a Dense layer with 128 neurons and a relu activation\n",
    "    x = Dense(128, activation='relu')(inputs)\n",
    "    \n",
    "    # connect another Dense layer with 128 neurons and a relu activation\n",
    "    x = Dense(128, activation='relu')(x)\n",
    "    return x\n",
    "  "
   ]
  },
  {
   "cell_type": "code",
   "execution_count": 44,
   "metadata": {
    "deletable": false,
    "editable": false,
    "nbgrader": {
     "cell_type": "code",
     "checksum": "9255924b3def80f679616e4c851a43e1",
     "grade": true,
     "grade_id": "cell-54f742a133353d75",
     "locked": true,
     "points": 1,
     "schema_version": 3,
     "solution": false,
     "task": false
    }
   },
   "outputs": [
    {
     "name": "stdout",
     "output_type": "stream",
     "text": [
      "\u001b[92m All public tests passed\n"
     ]
    }
   ],
   "source": [
    "utils.test_base_model(base_model)"
   ]
  },
  {
   "cell_type": "markdown",
   "metadata": {
    "colab_type": "text",
    "id": "xem_fcVws6Kz"
   },
   "source": [
    "# Define output layers of the model (TODO)\n",
    "\n",
    "You will add output layers to the base model. \n",
    "- The model will need two outputs.\n",
    "\n",
    "One output layer will predict wine quality, which is a numeric value.\n",
    "- Define a `Dense` layer with 1 neuron.\n",
    "- Since this is a regression output, the activation can be left as its default value `None`.\n",
    "\n",
    "The other output layer will predict the wine type, which is either red `1` or not red `0` (white).\n",
    "- Define a `Dense` layer with 1 neuron.\n",
    "- Since there are two possible categories, you can use a sigmoid activation for binary classification.\n",
    "\n",
    "Define the `Model`\n",
    "- Define the `Model` object, and set the following parameters:\n",
    "  - `inputs`: pass in the inputs to the model as a list.\n",
    "  - `outputs`: pass in a list of the outputs that you just defined: wine quality, then wine type.\n",
    "  - **Note**: please list the wine quality before wine type in the outputs, as this will affect the calculated loss if you choose the other order."
   ]
  },
  {
   "cell_type": "code",
   "execution_count": 45,
   "metadata": {
    "colab": {},
    "colab_type": "code",
    "deletable": false,
    "id": "n5UGF8PMVLPt",
    "nbgrader": {
     "cell_type": "code",
     "checksum": "76d35b90d20cdcbb22986cd8211057de",
     "grade": false,
     "grade_id": "cell-19e285f482f021fb",
     "locked": false,
     "schema_version": 3,
     "solution": true,
     "task": false
    }
   },
   "outputs": [],
   "source": [
    "# Please uncomment all lines in this cell and replace those marked with `# YOUR CODE HERE`.\n",
    "# You can select all lines in this code cell with Ctrl+A (Windows/Linux) or Cmd+A (Mac), then press Ctrl+/ (Windows/Linux) or Cmd+/ (Mac) to uncomment.\n",
    "\n",
    "\n",
    "\n",
    "def final_model(inputs):\n",
    "    \n",
    "    # get the base model\n",
    "    x = base_model(inputs)\n",
    "\n",
    "    # connect the output Dense layer for regression\n",
    "    wine_quality = Dense(units='1', name='wine_quality')(x)\n",
    "\n",
    "    # connect the output Dense layer for classification. this will use a sigmoid activation.\n",
    "    wine_type = Dense(units='1', activation='sigmoid', name='wine_type')(x)\n",
    "\n",
    "    # define the model using the input and output layers\n",
    "    model = Model(inputs=inputs, outputs=[wine_quality, wine_type])\n",
    "\n",
    "    return model"
   ]
  },
  {
   "cell_type": "code",
   "execution_count": 46,
   "metadata": {
    "deletable": false,
    "editable": false,
    "nbgrader": {
     "cell_type": "code",
     "checksum": "89cbf89d8ab5e2e59ecf7f63f517520a",
     "grade": true,
     "grade_id": "cell-40d050f855c817d1",
     "locked": true,
     "points": 1,
     "schema_version": 3,
     "solution": false,
     "task": false
    }
   },
   "outputs": [
    {
     "name": "stdout",
     "output_type": "stream",
     "text": [
      "\u001b[92m All public tests passed\n"
     ]
    }
   ],
   "source": [
    "utils.test_final_model(final_model)"
   ]
  },
  {
   "cell_type": "markdown",
   "metadata": {
    "colab_type": "text",
    "id": "5R0BMTsltZyu"
   },
   "source": [
    "## Compiling the Model\n",
    "\n",
    "Next, compile the model. When setting the loss parameter of `model.compile`, you're setting the loss for each of the two outputs (wine quality and wine type).\n",
    "\n",
    "To set more than one loss, use a dictionary of key-value pairs.\n",
    "- You can look at the docs for the losses [here](https://www.tensorflow.org/api_docs/python/tf/keras/losses#functions).\n",
    "    - **Note**: For the desired spelling, please look at the \"Functions\" section of the documentation and not the \"classes\" section on that same page.\n",
    "- wine_type: Since you will be performing binary classification on wine type, you should use the binary crossentropy loss function for it.  Please pass this in as a string.  \n",
    "  - **Hint**, this should be all lowercase.  In the documentation, you'll see this under the \"Functions\" section, not the \"Classes\" section.\n",
    "- wine_quality: since this is a regression output, use the mean squared error.  Please pass it in as a string, all lowercase.\n",
    "  - **Hint**: You may notice that there are two aliases for mean squared error.  Please use the shorter name.\n",
    "\n",
    "\n",
    "You will also set the metric for each of the two outputs.  Again, to set metrics for two or more outputs, use a dictionary with key value pairs.\n",
    "- The metrics documentation is linked [here](https://www.tensorflow.org/api_docs/python/tf/keras/metrics).\n",
    "- For the wine type, please set it to accuracy as a string, all lowercase.\n",
    "- For wine quality, please use the root mean squared error.  Instead of a string, you'll set it to an instance of the class [RootMeanSquaredError](https://www.tensorflow.org/api_docs/python/tf/keras/metrics/RootMeanSquaredError), which belongs to the tf.keras.metrics module.\n",
    "\n",
    "**Note**: If you see the error message \n",
    ">Exception: wine quality loss function is incorrect.\n",
    "\n",
    "- Please also check your other losses and metrics, as the error may be caused by the other three key-value pairs and not the wine quality loss."
   ]
  },
  {
   "cell_type": "code",
   "execution_count": 96,
   "metadata": {
    "colab": {},
    "colab_type": "code",
    "deletable": false,
    "id": "LK11duUbUjmh",
    "nbgrader": {
     "cell_type": "code",
     "checksum": "22f45067ca69eb2ccadb43874dbcc27b",
     "grade": false,
     "grade_id": "cell-81afdc4dcca51d5e",
     "locked": false,
     "schema_version": 3,
     "solution": true,
     "task": false
    }
   },
   "outputs": [],
   "source": [
    "# Please uncomment all lines in this cell and replace those marked with `# YOUR CODE HERE`.\n",
    "# You can select all lines in this code cell with Ctrl+A (Windows/Linux) or Cmd+A (Mac), then press Ctrl+/ (Windows/Linux) or Cmd+/ (Mac) to uncomment.\n",
    "\n",
    "\n",
    "\n",
    "inputs = tf.keras.layers.Input(shape=(11,))\n",
    "rms = tf.keras.optimizers.RMSprop(lr=0.0001)\n",
    "model = final_model(inputs)\n",
    "\n",
    "model.compile(optimizer=rms, \n",
    "              loss = {'wine_type' : 'binary_crossentropy',\n",
    "                      'wine_quality' : 'mean_squared_error'\n",
    "                     },\n",
    "              metrics = {'wine_type' : 'accuracy',\n",
    "                         'wine_quality': tf.keras.metrics.RootMeanSquaredError()\n",
    "                       }\n",
    "             )\n"
   ]
  },
  {
   "cell_type": "code",
   "execution_count": 97,
   "metadata": {
    "deletable": false,
    "editable": false,
    "nbgrader": {
     "cell_type": "code",
     "checksum": "88e02238ea5e456ff65e835cc8158054",
     "grade": true,
     "grade_id": "cell-2eeeba02391c4632",
     "locked": true,
     "points": 1,
     "schema_version": 3,
     "solution": false,
     "task": false
    }
   },
   "outputs": [
    {
     "name": "stdout",
     "output_type": "stream",
     "text": [
      "\u001b[92m All public tests passed\n"
     ]
    }
   ],
   "source": [
    "utils.test_model_compile(model)"
   ]
  },
  {
   "cell_type": "markdown",
   "metadata": {
    "colab_type": "text",
    "id": "90MpAMpWuKm-"
   },
   "source": [
    "## Training the Model (TODO)\n",
    "\n",
    "Fit the model to the training inputs and outputs. \n",
    "- Check the documentation for [model.fit](https://www.tensorflow.org/api_docs/python/tf/keras/Model#fit).\n",
    "- Remember to use the normalized training set as inputs. \n",
    "- For the validation data, please use the normalized validation set.\n",
    "\n",
    "**Important: Please do not increase the number of epochs below. This is to avoid the grader from timing out. You can increase it once you have submitted your work.**"
   ]
  },
  {
   "cell_type": "code",
   "execution_count": 98,
   "metadata": {
    "colab": {},
    "colab_type": "code",
    "deletable": false,
    "id": "_eiZkle4XwiY",
    "nbgrader": {
     "cell_type": "code",
     "checksum": "d1a4565296017a0611c6f2de675f96cf",
     "grade": false,
     "grade_id": "cell-0bb56262896f6680",
     "locked": false,
     "schema_version": 3,
     "solution": true,
     "task": false
    }
   },
   "outputs": [
    {
     "name": "stdout",
     "output_type": "stream",
     "text": [
      "Train on 3155 samples, validate on 789 samples\n",
      "Epoch 1/100\n",
      "3155/3155 [==============================] - 1s 325us/sample - loss: 20.8916 - wine_quality_loss: 20.1520 - wine_type_loss: 0.7044 - wine_quality_root_mean_squared_error: 4.4930 - wine_type_accuracy: 0.5645 - val_loss: 13.3242 - val_wine_quality_loss: 12.6451 - val_wine_type_loss: 0.6776 - val_wine_quality_root_mean_squared_error: 3.5563 - val_wine_type_accuracy: 0.6971\n",
      "Epoch 2/100\n",
      "3155/3155 [==============================] - 0s 95us/sample - loss: 8.1164 - wine_quality_loss: 7.4777 - wine_type_loss: 0.6205 - wine_quality_root_mean_squared_error: 2.7379 - wine_type_accuracy: 0.7401 - val_loss: 4.6244 - val_wine_quality_loss: 4.0305 - val_wine_type_loss: 0.5815 - val_wine_quality_root_mean_squared_error: 2.0109 - val_wine_type_accuracy: 0.7250\n",
      "Epoch 3/100\n",
      "3155/3155 [==============================] - 0s 78us/sample - loss: 3.3528 - wine_quality_loss: 2.8424 - wine_type_loss: 0.5050 - wine_quality_root_mean_squared_error: 1.6875 - wine_type_accuracy: 0.7448 - val_loss: 2.7407 - val_wine_quality_loss: 2.2610 - val_wine_type_loss: 0.4671 - val_wine_quality_root_mean_squared_error: 1.5082 - val_wine_type_accuracy: 0.7250\n",
      "Epoch 4/100\n",
      "3155/3155 [==============================] - 0s 95us/sample - loss: 2.4683 - wine_quality_loss: 2.0698 - wine_type_loss: 0.3944 - wine_quality_root_mean_squared_error: 1.4402 - wine_type_accuracy: 0.7696 - val_loss: 2.2747 - val_wine_quality_loss: 1.8970 - val_wine_type_loss: 0.3689 - val_wine_quality_root_mean_squared_error: 1.3809 - val_wine_type_accuracy: 0.8061\n",
      "Epoch 5/100\n",
      "3155/3155 [==============================] - 0s 94us/sample - loss: 2.0920 - wine_quality_loss: 1.7879 - wine_type_loss: 0.3033 - wine_quality_root_mean_squared_error: 1.3375 - wine_type_accuracy: 0.9109 - val_loss: 1.9756 - val_wine_quality_loss: 1.6866 - val_wine_type_loss: 0.2831 - val_wine_quality_root_mean_squared_error: 1.3013 - val_wine_type_accuracy: 0.9544\n",
      "Epoch 6/100\n",
      "3155/3155 [==============================] - 0s 93us/sample - loss: 1.8237 - wine_quality_loss: 1.5938 - wine_type_loss: 0.2305 - wine_quality_root_mean_squared_error: 1.2622 - wine_type_accuracy: 0.9689 - val_loss: 1.7614 - val_wine_quality_loss: 1.5380 - val_wine_type_loss: 0.2192 - val_wine_quality_root_mean_squared_error: 1.2421 - val_wine_type_accuracy: 0.9759\n",
      "Epoch 7/100\n",
      "3155/3155 [==============================] - 0s 93us/sample - loss: 1.6342 - wine_quality_loss: 1.4533 - wine_type_loss: 0.1789 - wine_quality_root_mean_squared_error: 1.2064 - wine_type_accuracy: 0.9829 - val_loss: 1.5995 - val_wine_quality_loss: 1.4247 - val_wine_type_loss: 0.1729 - val_wine_quality_root_mean_squared_error: 1.1947 - val_wine_type_accuracy: 0.9823\n",
      "Epoch 8/100\n",
      "3155/3155 [==============================] - 0s 92us/sample - loss: 1.4776 - wine_quality_loss: 1.3337 - wine_type_loss: 0.1417 - wine_quality_root_mean_squared_error: 1.1558 - wine_type_accuracy: 0.9873 - val_loss: 1.4581 - val_wine_quality_loss: 1.3185 - val_wine_type_loss: 0.1389 - val_wine_quality_root_mean_squared_error: 1.1488 - val_wine_type_accuracy: 0.9835\n",
      "Epoch 9/100\n",
      "3155/3155 [==============================] - 0s 91us/sample - loss: 1.3583 - wine_quality_loss: 1.2406 - wine_type_loss: 0.1156 - wine_quality_root_mean_squared_error: 1.1147 - wine_type_accuracy: 0.9886 - val_loss: 1.3548 - val_wine_quality_loss: 1.2401 - val_wine_type_loss: 0.1153 - val_wine_quality_root_mean_squared_error: 1.1136 - val_wine_type_accuracy: 0.9861\n",
      "Epoch 10/100\n",
      "3155/3155 [==============================] - 0s 75us/sample - loss: 1.2559 - wine_quality_loss: 1.1572 - wine_type_loss: 0.0972 - wine_quality_root_mean_squared_error: 1.0764 - wine_type_accuracy: 0.9899 - val_loss: 1.2587 - val_wine_quality_loss: 1.1623 - val_wine_type_loss: 0.0975 - val_wine_quality_root_mean_squared_error: 1.0778 - val_wine_type_accuracy: 0.9886\n",
      "Epoch 11/100\n",
      "3155/3155 [==============================] - 0s 93us/sample - loss: 1.1637 - wine_quality_loss: 1.0816 - wine_type_loss: 0.0832 - wine_quality_root_mean_squared_error: 1.0394 - wine_type_accuracy: 0.9914 - val_loss: 1.1714 - val_wine_quality_loss: 1.0891 - val_wine_type_loss: 0.0842 - val_wine_quality_root_mean_squared_error: 1.0430 - val_wine_type_accuracy: 0.9873\n",
      "Epoch 12/100\n",
      "3155/3155 [==============================] - 0s 93us/sample - loss: 1.0817 - wine_quality_loss: 1.0121 - wine_type_loss: 0.0730 - wine_quality_root_mean_squared_error: 1.0043 - wine_type_accuracy: 0.9918 - val_loss: 1.0967 - val_wine_quality_loss: 1.0250 - val_wine_type_loss: 0.0742 - val_wine_quality_root_mean_squared_error: 1.0114 - val_wine_type_accuracy: 0.9873\n",
      "Epoch 13/100\n",
      "3155/3155 [==============================] - 0s 94us/sample - loss: 1.0121 - wine_quality_loss: 0.9466 - wine_type_loss: 0.0655 - wine_quality_root_mean_squared_error: 0.9729 - wine_type_accuracy: 0.9918 - val_loss: 1.0390 - val_wine_quality_loss: 0.9755 - val_wine_type_loss: 0.0663 - val_wine_quality_root_mean_squared_error: 0.9865 - val_wine_type_accuracy: 0.9886\n",
      "Epoch 14/100\n",
      "3155/3155 [==============================] - 0s 93us/sample - loss: 0.9493 - wine_quality_loss: 0.8894 - wine_type_loss: 0.0599 - wine_quality_root_mean_squared_error: 0.9432 - wine_type_accuracy: 0.9918 - val_loss: 0.9780 - val_wine_quality_loss: 0.9213 - val_wine_type_loss: 0.0602 - val_wine_quality_root_mean_squared_error: 0.9583 - val_wine_type_accuracy: 0.9899\n",
      "Epoch 15/100\n",
      "3155/3155 [==============================] - 0s 90us/sample - loss: 0.8904 - wine_quality_loss: 0.8336 - wine_type_loss: 0.0548 - wine_quality_root_mean_squared_error: 0.9140 - wine_type_accuracy: 0.9921 - val_loss: 0.9309 - val_wine_quality_loss: 0.8791 - val_wine_type_loss: 0.0550 - val_wine_quality_root_mean_squared_error: 0.9361 - val_wine_type_accuracy: 0.9899\n",
      "Epoch 16/100\n",
      "3155/3155 [==============================] - 0s 90us/sample - loss: 0.8376 - wine_quality_loss: 0.7863 - wine_type_loss: 0.0513 - wine_quality_root_mean_squared_error: 0.8868 - wine_type_accuracy: 0.9927 - val_loss: 0.8745 - val_wine_quality_loss: 0.8274 - val_wine_type_loss: 0.0510 - val_wine_quality_root_mean_squared_error: 0.9077 - val_wine_type_accuracy: 0.9899\n",
      "Epoch 17/100\n",
      "3155/3155 [==============================] - 0s 77us/sample - loss: 0.7903 - wine_quality_loss: 0.7421 - wine_type_loss: 0.0482 - wine_quality_root_mean_squared_error: 0.8613 - wine_type_accuracy: 0.9927 - val_loss: 0.8261 - val_wine_quality_loss: 0.7822 - val_wine_type_loss: 0.0477 - val_wine_quality_root_mean_squared_error: 0.8826 - val_wine_type_accuracy: 0.9899\n",
      "Epoch 18/100\n",
      "3155/3155 [==============================] - 0s 89us/sample - loss: 0.7448 - wine_quality_loss: 0.7006 - wine_type_loss: 0.0458 - wine_quality_root_mean_squared_error: 0.8360 - wine_type_accuracy: 0.9927 - val_loss: 0.7799 - val_wine_quality_loss: 0.7394 - val_wine_type_loss: 0.0448 - val_wine_quality_root_mean_squared_error: 0.8577 - val_wine_type_accuracy: 0.9911\n",
      "Epoch 19/100\n",
      "3155/3155 [==============================] - 0s 90us/sample - loss: 0.7034 - wine_quality_loss: 0.6588 - wine_type_loss: 0.0438 - wine_quality_root_mean_squared_error: 0.8121 - wine_type_accuracy: 0.9927 - val_loss: 0.7379 - val_wine_quality_loss: 0.6998 - val_wine_type_loss: 0.0423 - val_wine_quality_root_mean_squared_error: 0.8343 - val_wine_type_accuracy: 0.9924\n",
      "Epoch 20/100\n",
      "3155/3155 [==============================] - 0s 89us/sample - loss: 0.6668 - wine_quality_loss: 0.6243 - wine_type_loss: 0.0421 - wine_quality_root_mean_squared_error: 0.7903 - wine_type_accuracy: 0.9927 - val_loss: 0.7049 - val_wine_quality_loss: 0.6691 - val_wine_type_loss: 0.0402 - val_wine_quality_root_mean_squared_error: 0.8156 - val_wine_type_accuracy: 0.9924\n",
      "Epoch 21/100\n",
      "3155/3155 [==============================] - 0s 76us/sample - loss: 0.6331 - wine_quality_loss: 0.5920 - wine_type_loss: 0.0407 - wine_quality_root_mean_squared_error: 0.7696 - wine_type_accuracy: 0.9930 - val_loss: 0.6735 - val_wine_quality_loss: 0.6396 - val_wine_type_loss: 0.0385 - val_wine_quality_root_mean_squared_error: 0.7972 - val_wine_type_accuracy: 0.9937\n",
      "Epoch 22/100\n"
     ]
    },
    {
     "name": "stdout",
     "output_type": "stream",
     "text": [
      "3155/3155 [==============================] - 0s 91us/sample - loss: 0.6022 - wine_quality_loss: 0.5617 - wine_type_loss: 0.0408 - wine_quality_root_mean_squared_error: 0.7501 - wine_type_accuracy: 0.9933 - val_loss: 0.6407 - val_wine_quality_loss: 0.6089 - val_wine_type_loss: 0.0369 - val_wine_quality_root_mean_squared_error: 0.7773 - val_wine_type_accuracy: 0.9937\n",
      "Epoch 23/100\n",
      "3155/3155 [==============================] - 0s 92us/sample - loss: 0.5730 - wine_quality_loss: 0.5352 - wine_type_loss: 0.0385 - wine_quality_root_mean_squared_error: 0.7311 - wine_type_accuracy: 0.9933 - val_loss: 0.6100 - val_wine_quality_loss: 0.5791 - val_wine_type_loss: 0.0355 - val_wine_quality_root_mean_squared_error: 0.7582 - val_wine_type_accuracy: 0.9937\n",
      "Epoch 24/100\n",
      "3155/3155 [==============================] - 0s 91us/sample - loss: 0.5471 - wine_quality_loss: 0.5094 - wine_type_loss: 0.0388 - wine_quality_root_mean_squared_error: 0.7138 - wine_type_accuracy: 0.9933 - val_loss: 0.5851 - val_wine_quality_loss: 0.5556 - val_wine_type_loss: 0.0343 - val_wine_quality_root_mean_squared_error: 0.7425 - val_wine_type_accuracy: 0.9949\n",
      "Epoch 25/100\n",
      "3155/3155 [==============================] - 0s 77us/sample - loss: 0.5240 - wine_quality_loss: 0.4870 - wine_type_loss: 0.0367 - wine_quality_root_mean_squared_error: 0.6979 - wine_type_accuracy: 0.9933 - val_loss: 0.5714 - val_wine_quality_loss: 0.5429 - val_wine_type_loss: 0.0332 - val_wine_quality_root_mean_squared_error: 0.7339 - val_wine_type_accuracy: 0.9949\n",
      "Epoch 26/100\n",
      "3155/3155 [==============================] - 0s 91us/sample - loss: 0.5023 - wine_quality_loss: 0.4665 - wine_type_loss: 0.0360 - wine_quality_root_mean_squared_error: 0.6827 - wine_type_accuracy: 0.9937 - val_loss: 0.5447 - val_wine_quality_loss: 0.5175 - val_wine_type_loss: 0.0323 - val_wine_quality_root_mean_squared_error: 0.7161 - val_wine_type_accuracy: 0.9949\n",
      "Epoch 27/100\n",
      "3155/3155 [==============================] - 0s 90us/sample - loss: 0.4837 - wine_quality_loss: 0.4475 - wine_type_loss: 0.0354 - wine_quality_root_mean_squared_error: 0.6695 - wine_type_accuracy: 0.9940 - val_loss: 0.5286 - val_wine_quality_loss: 0.5022 - val_wine_type_loss: 0.0313 - val_wine_quality_root_mean_squared_error: 0.7055 - val_wine_type_accuracy: 0.9949\n",
      "Epoch 28/100\n",
      "3155/3155 [==============================] - 0s 88us/sample - loss: 0.4678 - wine_quality_loss: 0.4322 - wine_type_loss: 0.0350 - wine_quality_root_mean_squared_error: 0.6580 - wine_type_accuracy: 0.9940 - val_loss: 0.5086 - val_wine_quality_loss: 0.4832 - val_wine_type_loss: 0.0305 - val_wine_quality_root_mean_squared_error: 0.6917 - val_wine_type_accuracy: 0.9949\n",
      "Epoch 29/100\n",
      "3155/3155 [==============================] - 0s 75us/sample - loss: 0.4530 - wine_quality_loss: 0.4194 - wine_type_loss: 0.0343 - wine_quality_root_mean_squared_error: 0.6471 - wine_type_accuracy: 0.9940 - val_loss: 0.5019 - val_wine_quality_loss: 0.4773 - val_wine_type_loss: 0.0297 - val_wine_quality_root_mean_squared_error: 0.6875 - val_wine_type_accuracy: 0.9962\n",
      "Epoch 30/100\n",
      "3155/3155 [==============================] - 0s 89us/sample - loss: 0.4398 - wine_quality_loss: 0.4063 - wine_type_loss: 0.0338 - wine_quality_root_mean_squared_error: 0.6371 - wine_type_accuracy: 0.9940 - val_loss: 0.4911 - val_wine_quality_loss: 0.4668 - val_wine_type_loss: 0.0291 - val_wine_quality_root_mean_squared_error: 0.6800 - val_wine_type_accuracy: 0.9962\n",
      "Epoch 31/100\n",
      "3155/3155 [==============================] - 0s 93us/sample - loss: 0.4287 - wine_quality_loss: 0.3944 - wine_type_loss: 0.0336 - wine_quality_root_mean_squared_error: 0.6286 - wine_type_accuracy: 0.9940 - val_loss: 0.4782 - val_wine_quality_loss: 0.4546 - val_wine_type_loss: 0.0284 - val_wine_quality_root_mean_squared_error: 0.6709 - val_wine_type_accuracy: 0.9962\n",
      "Epoch 32/100\n",
      "3155/3155 [==============================] - 0s 90us/sample - loss: 0.4179 - wine_quality_loss: 0.3855 - wine_type_loss: 0.0331 - wine_quality_root_mean_squared_error: 0.6204 - wine_type_accuracy: 0.9943 - val_loss: 0.4671 - val_wine_quality_loss: 0.4439 - val_wine_type_loss: 0.0279 - val_wine_quality_root_mean_squared_error: 0.6629 - val_wine_type_accuracy: 0.9962\n",
      "Epoch 33/100\n",
      "3155/3155 [==============================] - 0s 75us/sample - loss: 0.4100 - wine_quality_loss: 0.3768 - wine_type_loss: 0.0327 - wine_quality_root_mean_squared_error: 0.6143 - wine_type_accuracy: 0.9943 - val_loss: 0.4592 - val_wine_quality_loss: 0.4363 - val_wine_type_loss: 0.0274 - val_wine_quality_root_mean_squared_error: 0.6573 - val_wine_type_accuracy: 0.9962\n",
      "Epoch 34/100\n",
      "3155/3155 [==============================] - 0s 95us/sample - loss: 0.4007 - wine_quality_loss: 0.3678 - wine_type_loss: 0.0322 - wine_quality_root_mean_squared_error: 0.6069 - wine_type_accuracy: 0.9943 - val_loss: 0.4556 - val_wine_quality_loss: 0.4336 - val_wine_type_loss: 0.0270 - val_wine_quality_root_mean_squared_error: 0.6549 - val_wine_type_accuracy: 0.9962\n",
      "Epoch 35/100\n",
      "3155/3155 [==============================] - 0s 88us/sample - loss: 0.3938 - wine_quality_loss: 0.3613 - wine_type_loss: 0.0335 - wine_quality_root_mean_squared_error: 0.6015 - wine_type_accuracy: 0.9943 - val_loss: 0.4500 - val_wine_quality_loss: 0.4279 - val_wine_type_loss: 0.0265 - val_wine_quality_root_mean_squared_error: 0.6509 - val_wine_type_accuracy: 0.9975\n",
      "Epoch 36/100\n",
      "3155/3155 [==============================] - 0s 74us/sample - loss: 0.3871 - wine_quality_loss: 0.3557 - wine_type_loss: 0.0317 - wine_quality_root_mean_squared_error: 0.5961 - wine_type_accuracy: 0.9943 - val_loss: 0.4392 - val_wine_quality_loss: 0.4175 - val_wine_type_loss: 0.0261 - val_wine_quality_root_mean_squared_error: 0.6429 - val_wine_type_accuracy: 0.9975\n",
      "Epoch 37/100\n",
      "3155/3155 [==============================] - 0s 90us/sample - loss: 0.3804 - wine_quality_loss: 0.3486 - wine_type_loss: 0.0313 - wine_quality_root_mean_squared_error: 0.5907 - wine_type_accuracy: 0.9946 - val_loss: 0.4427 - val_wine_quality_loss: 0.4216 - val_wine_type_loss: 0.0258 - val_wine_quality_root_mean_squared_error: 0.6459 - val_wine_type_accuracy: 0.9975\n",
      "Epoch 38/100\n",
      "3155/3155 [==============================] - 0s 90us/sample - loss: 0.3772 - wine_quality_loss: 0.3460 - wine_type_loss: 0.0311 - wine_quality_root_mean_squared_error: 0.5882 - wine_type_accuracy: 0.9946 - val_loss: 0.4298 - val_wine_quality_loss: 0.4087 - val_wine_type_loss: 0.0254 - val_wine_quality_root_mean_squared_error: 0.6361 - val_wine_type_accuracy: 0.9987\n",
      "Epoch 39/100\n",
      "3155/3155 [==============================] - 0s 89us/sample - loss: 0.3726 - wine_quality_loss: 0.3420 - wine_type_loss: 0.0308 - wine_quality_root_mean_squared_error: 0.5846 - wine_type_accuracy: 0.9949 - val_loss: 0.4313 - val_wine_quality_loss: 0.4102 - val_wine_type_loss: 0.0251 - val_wine_quality_root_mean_squared_error: 0.6376 - val_wine_type_accuracy: 0.9987\n",
      "Epoch 40/100\n",
      "3155/3155 [==============================] - 0s 76us/sample - loss: 0.3685 - wine_quality_loss: 0.3376 - wine_type_loss: 0.0306 - wine_quality_root_mean_squared_error: 0.5812 - wine_type_accuracy: 0.9949 - val_loss: 0.4233 - val_wine_quality_loss: 0.4026 - val_wine_type_loss: 0.0247 - val_wine_quality_root_mean_squared_error: 0.6315 - val_wine_type_accuracy: 0.9987\n",
      "Epoch 41/100\n",
      "3155/3155 [==============================] - 0s 90us/sample - loss: 0.3649 - wine_quality_loss: 0.3346 - wine_type_loss: 0.0303 - wine_quality_root_mean_squared_error: 0.5783 - wine_type_accuracy: 0.9949 - val_loss: 0.4249 - val_wine_quality_loss: 0.4045 - val_wine_type_loss: 0.0245 - val_wine_quality_root_mean_squared_error: 0.6330 - val_wine_type_accuracy: 0.9987\n",
      "Epoch 42/100\n",
      "3155/3155 [==============================] - 0s 92us/sample - loss: 0.3614 - wine_quality_loss: 0.3310 - wine_type_loss: 0.0301 - wine_quality_root_mean_squared_error: 0.5755 - wine_type_accuracy: 0.9946 - val_loss: 0.4252 - val_wine_quality_loss: 0.4048 - val_wine_type_loss: 0.0242 - val_wine_quality_root_mean_squared_error: 0.6335 - val_wine_type_accuracy: 0.9987\n",
      "Epoch 43/100\n"
     ]
    },
    {
     "name": "stdout",
     "output_type": "stream",
     "text": [
      "3155/3155 [==============================] - 0s 73us/sample - loss: 0.3571 - wine_quality_loss: 0.3273 - wine_type_loss: 0.0299 - wine_quality_root_mean_squared_error: 0.5719 - wine_type_accuracy: 0.9946 - val_loss: 0.4138 - val_wine_quality_loss: 0.3936 - val_wine_type_loss: 0.0239 - val_wine_quality_root_mean_squared_error: 0.6246 - val_wine_type_accuracy: 0.9987\n",
      "Epoch 44/100\n",
      "3155/3155 [==============================] - 0s 93us/sample - loss: 0.3562 - wine_quality_loss: 0.3257 - wine_type_loss: 0.0298 - wine_quality_root_mean_squared_error: 0.5713 - wine_type_accuracy: 0.9949 - val_loss: 0.4068 - val_wine_quality_loss: 0.3869 - val_wine_type_loss: 0.0236 - val_wine_quality_root_mean_squared_error: 0.6191 - val_wine_type_accuracy: 0.9987\n",
      "Epoch 45/100\n",
      "3155/3155 [==============================] - 0s 89us/sample - loss: 0.3537 - wine_quality_loss: 0.3246 - wine_type_loss: 0.0296 - wine_quality_root_mean_squared_error: 0.5692 - wine_type_accuracy: 0.9949 - val_loss: 0.4099 - val_wine_quality_loss: 0.3896 - val_wine_type_loss: 0.0234 - val_wine_quality_root_mean_squared_error: 0.6218 - val_wine_type_accuracy: 0.9987\n",
      "Epoch 46/100\n",
      "3155/3155 [==============================] - 0s 89us/sample - loss: 0.3508 - wine_quality_loss: 0.3206 - wine_type_loss: 0.0294 - wine_quality_root_mean_squared_error: 0.5668 - wine_type_accuracy: 0.9949 - val_loss: 0.4039 - val_wine_quality_loss: 0.3840 - val_wine_type_loss: 0.0232 - val_wine_quality_root_mean_squared_error: 0.6172 - val_wine_type_accuracy: 0.9987\n",
      "Epoch 47/100\n",
      "3155/3155 [==============================] - 0s 76us/sample - loss: 0.3487 - wine_quality_loss: 0.3196 - wine_type_loss: 0.0292 - wine_quality_root_mean_squared_error: 0.5652 - wine_type_accuracy: 0.9949 - val_loss: 0.4067 - val_wine_quality_loss: 0.3868 - val_wine_type_loss: 0.0230 - val_wine_quality_root_mean_squared_error: 0.6196 - val_wine_type_accuracy: 0.9987\n",
      "Epoch 48/100\n",
      "3155/3155 [==============================] - 0s 92us/sample - loss: 0.3461 - wine_quality_loss: 0.3169 - wine_type_loss: 0.0291 - wine_quality_root_mean_squared_error: 0.5630 - wine_type_accuracy: 0.9952 - val_loss: 0.4055 - val_wine_quality_loss: 0.3859 - val_wine_type_loss: 0.0228 - val_wine_quality_root_mean_squared_error: 0.6188 - val_wine_type_accuracy: 0.9987\n",
      "Epoch 49/100\n",
      "3155/3155 [==============================] - 0s 90us/sample - loss: 0.3438 - wine_quality_loss: 0.3144 - wine_type_loss: 0.0290 - wine_quality_root_mean_squared_error: 0.5611 - wine_type_accuracy: 0.9952 - val_loss: 0.4026 - val_wine_quality_loss: 0.3831 - val_wine_type_loss: 0.0226 - val_wine_quality_root_mean_squared_error: 0.6166 - val_wine_type_accuracy: 0.9987\n",
      "Epoch 50/100\n",
      "3155/3155 [==============================] - 0s 96us/sample - loss: 0.3428 - wine_quality_loss: 0.3137 - wine_type_loss: 0.0286 - wine_quality_root_mean_squared_error: 0.5604 - wine_type_accuracy: 0.9949 - val_loss: 0.3979 - val_wine_quality_loss: 0.3781 - val_wine_type_loss: 0.0225 - val_wine_quality_root_mean_squared_error: 0.6129 - val_wine_type_accuracy: 0.9987\n",
      "Epoch 51/100\n",
      "3155/3155 [==============================] - 0s 90us/sample - loss: 0.3409 - wine_quality_loss: 0.3121 - wine_type_loss: 0.0286 - wine_quality_root_mean_squared_error: 0.5587 - wine_type_accuracy: 0.9952 - val_loss: 0.4073 - val_wine_quality_loss: 0.3881 - val_wine_type_loss: 0.0222 - val_wine_quality_root_mean_squared_error: 0.6206 - val_wine_type_accuracy: 0.9987\n",
      "Epoch 52/100\n",
      "3155/3155 [==============================] - 0s 76us/sample - loss: 0.3392 - wine_quality_loss: 0.3105 - wine_type_loss: 0.0284 - wine_quality_root_mean_squared_error: 0.5574 - wine_type_accuracy: 0.9949 - val_loss: 0.3941 - val_wine_quality_loss: 0.3746 - val_wine_type_loss: 0.0221 - val_wine_quality_root_mean_squared_error: 0.6101 - val_wine_type_accuracy: 0.9987\n",
      "Epoch 53/100\n",
      "3155/3155 [==============================] - 0s 92us/sample - loss: 0.3370 - wine_quality_loss: 0.3086 - wine_type_loss: 0.0282 - wine_quality_root_mean_squared_error: 0.5555 - wine_type_accuracy: 0.9949 - val_loss: 0.3997 - val_wine_quality_loss: 0.3806 - val_wine_type_loss: 0.0219 - val_wine_quality_root_mean_squared_error: 0.6148 - val_wine_type_accuracy: 0.9987\n",
      "Epoch 54/100\n",
      "3155/3155 [==============================] - 0s 92us/sample - loss: 0.3357 - wine_quality_loss: 0.3074 - wine_type_loss: 0.0281 - wine_quality_root_mean_squared_error: 0.5545 - wine_type_accuracy: 0.9952 - val_loss: 0.3957 - val_wine_quality_loss: 0.3767 - val_wine_type_loss: 0.0217 - val_wine_quality_root_mean_squared_error: 0.6117 - val_wine_type_accuracy: 0.9987\n",
      "Epoch 55/100\n",
      "3155/3155 [==============================] - 0s 92us/sample - loss: 0.3330 - wine_quality_loss: 0.3051 - wine_type_loss: 0.0279 - wine_quality_root_mean_squared_error: 0.5523 - wine_type_accuracy: 0.9952 - val_loss: 0.3905 - val_wine_quality_loss: 0.3716 - val_wine_type_loss: 0.0216 - val_wine_quality_root_mean_squared_error: 0.6075 - val_wine_type_accuracy: 0.9987\n",
      "Epoch 56/100\n",
      "3155/3155 [==============================] - 0s 93us/sample - loss: 0.3335 - wine_quality_loss: 0.3059 - wine_type_loss: 0.0278 - wine_quality_root_mean_squared_error: 0.5529 - wine_type_accuracy: 0.9949 - val_loss: 0.3968 - val_wine_quality_loss: 0.3781 - val_wine_type_loss: 0.0214 - val_wine_quality_root_mean_squared_error: 0.6128 - val_wine_type_accuracy: 0.9987\n",
      "Epoch 57/100\n",
      "3155/3155 [==============================] - 0s 91us/sample - loss: 0.3311 - wine_quality_loss: 0.3031 - wine_type_loss: 0.0276 - wine_quality_root_mean_squared_error: 0.5508 - wine_type_accuracy: 0.9949 - val_loss: 0.3908 - val_wine_quality_loss: 0.3722 - val_wine_type_loss: 0.0212 - val_wine_quality_root_mean_squared_error: 0.6081 - val_wine_type_accuracy: 0.9987\n",
      "Epoch 58/100\n",
      "3155/3155 [==============================] - 0s 77us/sample - loss: 0.3299 - wine_quality_loss: 0.3022 - wine_type_loss: 0.0274 - wine_quality_root_mean_squared_error: 0.5499 - wine_type_accuracy: 0.9952 - val_loss: 0.3918 - val_wine_quality_loss: 0.3731 - val_wine_type_loss: 0.0211 - val_wine_quality_root_mean_squared_error: 0.6090 - val_wine_type_accuracy: 0.9987\n",
      "Epoch 59/100\n",
      "3155/3155 [==============================] - 0s 92us/sample - loss: 0.3281 - wine_quality_loss: 0.3005 - wine_type_loss: 0.0273 - wine_quality_root_mean_squared_error: 0.5484 - wine_type_accuracy: 0.9956 - val_loss: 0.3942 - val_wine_quality_loss: 0.3756 - val_wine_type_loss: 0.0209 - val_wine_quality_root_mean_squared_error: 0.6110 - val_wine_type_accuracy: 0.9987\n",
      "Epoch 60/100\n",
      "3155/3155 [==============================] - 0s 91us/sample - loss: 0.3283 - wine_quality_loss: 0.3006 - wine_type_loss: 0.0272 - wine_quality_root_mean_squared_error: 0.5486 - wine_type_accuracy: 0.9952 - val_loss: 0.3885 - val_wine_quality_loss: 0.3701 - val_wine_type_loss: 0.0208 - val_wine_quality_root_mean_squared_error: 0.6065 - val_wine_type_accuracy: 0.9987\n",
      "Epoch 61/100\n",
      "3155/3155 [==============================] - 0s 91us/sample - loss: 0.3269 - wine_quality_loss: 0.2996 - wine_type_loss: 0.0271 - wine_quality_root_mean_squared_error: 0.5475 - wine_type_accuracy: 0.9952 - val_loss: 0.3935 - val_wine_quality_loss: 0.3751 - val_wine_type_loss: 0.0207 - val_wine_quality_root_mean_squared_error: 0.6106 - val_wine_type_accuracy: 0.9987\n",
      "Epoch 62/100\n",
      "3155/3155 [==============================] - 0s 89us/sample - loss: 0.3261 - wine_quality_loss: 0.2988 - wine_type_loss: 0.0270 - wine_quality_root_mean_squared_error: 0.5469 - wine_type_accuracy: 0.9952 - val_loss: 0.3859 - val_wine_quality_loss: 0.3673 - val_wine_type_loss: 0.0206 - val_wine_quality_root_mean_squared_error: 0.6045 - val_wine_type_accuracy: 0.9987\n",
      "Epoch 63/100\n",
      "3155/3155 [==============================] - 0s 80us/sample - loss: 0.3243 - wine_quality_loss: 0.2977 - wine_type_loss: 0.0268 - wine_quality_root_mean_squared_error: 0.5454 - wine_type_accuracy: 0.9952 - val_loss: 0.3860 - val_wine_quality_loss: 0.3676 - val_wine_type_loss: 0.0204 - val_wine_quality_root_mean_squared_error: 0.6047 - val_wine_type_accuracy: 0.9987\n",
      "Epoch 64/100\n"
     ]
    },
    {
     "name": "stdout",
     "output_type": "stream",
     "text": [
      "3155/3155 [==============================] - 0s 90us/sample - loss: 0.3232 - wine_quality_loss: 0.2963 - wine_type_loss: 0.0267 - wine_quality_root_mean_squared_error: 0.5445 - wine_type_accuracy: 0.9956 - val_loss: 0.3879 - val_wine_quality_loss: 0.3698 - val_wine_type_loss: 0.0203 - val_wine_quality_root_mean_squared_error: 0.6064 - val_wine_type_accuracy: 0.9987\n",
      "Epoch 65/100\n",
      "3155/3155 [==============================] - 0s 92us/sample - loss: 0.3222 - wine_quality_loss: 0.2951 - wine_type_loss: 0.0265 - wine_quality_root_mean_squared_error: 0.5437 - wine_type_accuracy: 0.9952 - val_loss: 0.3859 - val_wine_quality_loss: 0.3677 - val_wine_type_loss: 0.0202 - val_wine_quality_root_mean_squared_error: 0.6048 - val_wine_type_accuracy: 0.9987\n",
      "Epoch 66/100\n",
      "3155/3155 [==============================] - 0s 90us/sample - loss: 0.3221 - wine_quality_loss: 0.2959 - wine_type_loss: 0.0264 - wine_quality_root_mean_squared_error: 0.5438 - wine_type_accuracy: 0.9956 - val_loss: 0.3925 - val_wine_quality_loss: 0.3743 - val_wine_type_loss: 0.0201 - val_wine_quality_root_mean_squared_error: 0.6103 - val_wine_type_accuracy: 0.9987\n",
      "Epoch 67/100\n",
      "3155/3155 [==============================] - 0s 91us/sample - loss: 0.3199 - wine_quality_loss: 0.2936 - wine_type_loss: 0.0262 - wine_quality_root_mean_squared_error: 0.5418 - wine_type_accuracy: 0.9959 - val_loss: 0.3871 - val_wine_quality_loss: 0.3694 - val_wine_type_loss: 0.0200 - val_wine_quality_root_mean_squared_error: 0.6060 - val_wine_type_accuracy: 0.9987\n",
      "Epoch 68/100\n",
      "3155/3155 [==============================] - 0s 77us/sample - loss: 0.3195 - wine_quality_loss: 0.2937 - wine_type_loss: 0.0261 - wine_quality_root_mean_squared_error: 0.5416 - wine_type_accuracy: 0.9956 - val_loss: 0.3825 - val_wine_quality_loss: 0.3646 - val_wine_type_loss: 0.0198 - val_wine_quality_root_mean_squared_error: 0.6023 - val_wine_type_accuracy: 0.9987\n",
      "Epoch 69/100\n",
      "3155/3155 [==============================] - 0s 91us/sample - loss: 0.3179 - wine_quality_loss: 0.2915 - wine_type_loss: 0.0260 - wine_quality_root_mean_squared_error: 0.5402 - wine_type_accuracy: 0.9952 - val_loss: 0.3893 - val_wine_quality_loss: 0.3717 - val_wine_type_loss: 0.0197 - val_wine_quality_root_mean_squared_error: 0.6080 - val_wine_type_accuracy: 0.9987\n",
      "Epoch 70/100\n",
      "3155/3155 [==============================] - 0s 89us/sample - loss: 0.3172 - wine_quality_loss: 0.2915 - wine_type_loss: 0.0258 - wine_quality_root_mean_squared_error: 0.5398 - wine_type_accuracy: 0.9959 - val_loss: 0.3913 - val_wine_quality_loss: 0.3736 - val_wine_type_loss: 0.0196 - val_wine_quality_root_mean_squared_error: 0.6097 - val_wine_type_accuracy: 0.9987\n",
      "Epoch 71/100\n",
      "3155/3155 [==============================] - 0s 90us/sample - loss: 0.3159 - wine_quality_loss: 0.2899 - wine_type_loss: 0.0257 - wine_quality_root_mean_squared_error: 0.5386 - wine_type_accuracy: 0.9956 - val_loss: 0.3880 - val_wine_quality_loss: 0.3704 - val_wine_type_loss: 0.0195 - val_wine_quality_root_mean_squared_error: 0.6071 - val_wine_type_accuracy: 0.9987\n",
      "Epoch 72/100\n",
      "3155/3155 [==============================] - 0s 76us/sample - loss: 0.3159 - wine_quality_loss: 0.2909 - wine_type_loss: 0.0256 - wine_quality_root_mean_squared_error: 0.5387 - wine_type_accuracy: 0.9956 - val_loss: 0.3809 - val_wine_quality_loss: 0.3631 - val_wine_type_loss: 0.0194 - val_wine_quality_root_mean_squared_error: 0.6013 - val_wine_type_accuracy: 0.9987\n",
      "Epoch 73/100\n",
      "3155/3155 [==============================] - 0s 92us/sample - loss: 0.3143 - wine_quality_loss: 0.2887 - wine_type_loss: 0.0254 - wine_quality_root_mean_squared_error: 0.5373 - wine_type_accuracy: 0.9956 - val_loss: 0.3851 - val_wine_quality_loss: 0.3675 - val_wine_type_loss: 0.0193 - val_wine_quality_root_mean_squared_error: 0.6049 - val_wine_type_accuracy: 0.9987\n",
      "Epoch 74/100\n",
      "3155/3155 [==============================] - 0s 92us/sample - loss: 0.3135 - wine_quality_loss: 0.2881 - wine_type_loss: 0.0254 - wine_quality_root_mean_squared_error: 0.5366 - wine_type_accuracy: 0.9959 - val_loss: 0.3867 - val_wine_quality_loss: 0.3689 - val_wine_type_loss: 0.0192 - val_wine_quality_root_mean_squared_error: 0.6062 - val_wine_type_accuracy: 0.9987\n",
      "Epoch 75/100\n",
      "3155/3155 [==============================] - 0s 91us/sample - loss: 0.3131 - wine_quality_loss: 0.2873 - wine_type_loss: 0.0258 - wine_quality_root_mean_squared_error: 0.5364 - wine_type_accuracy: 0.9962 - val_loss: 0.3779 - val_wine_quality_loss: 0.3605 - val_wine_type_loss: 0.0191 - val_wine_quality_root_mean_squared_error: 0.5990 - val_wine_type_accuracy: 0.9987\n",
      "Epoch 76/100\n",
      "3155/3155 [==============================] - 0s 92us/sample - loss: 0.3117 - wine_quality_loss: 0.2867 - wine_type_loss: 0.0251 - wine_quality_root_mean_squared_error: 0.5353 - wine_type_accuracy: 0.9962 - val_loss: 0.3749 - val_wine_quality_loss: 0.3573 - val_wine_type_loss: 0.0190 - val_wine_quality_root_mean_squared_error: 0.5966 - val_wine_type_accuracy: 0.9987\n",
      "Epoch 77/100\n",
      "3155/3155 [==============================] - 0s 75us/sample - loss: 0.3110 - wine_quality_loss: 0.2857 - wine_type_loss: 0.0251 - wine_quality_root_mean_squared_error: 0.5347 - wine_type_accuracy: 0.9962 - val_loss: 0.3806 - val_wine_quality_loss: 0.3631 - val_wine_type_loss: 0.0189 - val_wine_quality_root_mean_squared_error: 0.6014 - val_wine_type_accuracy: 0.9987\n",
      "Epoch 78/100\n",
      "3155/3155 [==============================] - 0s 92us/sample - loss: 0.3104 - wine_quality_loss: 0.2860 - wine_type_loss: 0.0249 - wine_quality_root_mean_squared_error: 0.5343 - wine_type_accuracy: 0.9959 - val_loss: 0.3753 - val_wine_quality_loss: 0.3582 - val_wine_type_loss: 0.0188 - val_wine_quality_root_mean_squared_error: 0.5971 - val_wine_type_accuracy: 0.9987\n",
      "Epoch 79/100\n",
      "3155/3155 [==============================] - 0s 88us/sample - loss: 0.3085 - wine_quality_loss: 0.2837 - wine_type_loss: 0.0247 - wine_quality_root_mean_squared_error: 0.5327 - wine_type_accuracy: 0.9962 - val_loss: 0.3821 - val_wine_quality_loss: 0.3646 - val_wine_type_loss: 0.0187 - val_wine_quality_root_mean_squared_error: 0.6028 - val_wine_type_accuracy: 0.9987\n",
      "Epoch 80/100\n",
      "3155/3155 [==============================] - 0s 74us/sample - loss: 0.3080 - wine_quality_loss: 0.2827 - wine_type_loss: 0.0246 - wine_quality_root_mean_squared_error: 0.5323 - wine_type_accuracy: 0.9965 - val_loss: 0.3974 - val_wine_quality_loss: 0.3802 - val_wine_type_loss: 0.0187 - val_wine_quality_root_mean_squared_error: 0.6155 - val_wine_type_accuracy: 0.9987\n",
      "Epoch 81/100\n",
      "3155/3155 [==============================] - 0s 91us/sample - loss: 0.3084 - wine_quality_loss: 0.2834 - wine_type_loss: 0.0245 - wine_quality_root_mean_squared_error: 0.5328 - wine_type_accuracy: 0.9962 - val_loss: 0.3763 - val_wine_quality_loss: 0.3591 - val_wine_type_loss: 0.0186 - val_wine_quality_root_mean_squared_error: 0.5981 - val_wine_type_accuracy: 0.9987\n",
      "Epoch 82/100\n",
      "3155/3155 [==============================] - 0s 90us/sample - loss: 0.3070 - wine_quality_loss: 0.2830 - wine_type_loss: 0.0244 - wine_quality_root_mean_squared_error: 0.5316 - wine_type_accuracy: 0.9962 - val_loss: 0.3755 - val_wine_quality_loss: 0.3587 - val_wine_type_loss: 0.0185 - val_wine_quality_root_mean_squared_error: 0.5976 - val_wine_type_accuracy: 0.9987\n",
      "Epoch 83/100\n",
      "3155/3155 [==============================] - 0s 90us/sample - loss: 0.3064 - wine_quality_loss: 0.2819 - wine_type_loss: 0.0243 - wine_quality_root_mean_squared_error: 0.5311 - wine_type_accuracy: 0.9962 - val_loss: 0.3783 - val_wine_quality_loss: 0.3614 - val_wine_type_loss: 0.0184 - val_wine_quality_root_mean_squared_error: 0.5999 - val_wine_type_accuracy: 0.9987\n",
      "Epoch 84/100\n",
      "3155/3155 [==============================] - 0s 77us/sample - loss: 0.3055 - wine_quality_loss: 0.2810 - wine_type_loss: 0.0241 - wine_quality_root_mean_squared_error: 0.5304 - wine_type_accuracy: 0.9965 - val_loss: 0.3768 - val_wine_quality_loss: 0.3598 - val_wine_type_loss: 0.0183 - val_wine_quality_root_mean_squared_error: 0.5988 - val_wine_type_accuracy: 0.9987\n",
      "Epoch 85/100\n"
     ]
    },
    {
     "name": "stdout",
     "output_type": "stream",
     "text": [
      "3155/3155 [==============================] - 0s 90us/sample - loss: 0.3045 - wine_quality_loss: 0.2820 - wine_type_loss: 0.0240 - wine_quality_root_mean_squared_error: 0.5296 - wine_type_accuracy: 0.9962 - val_loss: 0.3736 - val_wine_quality_loss: 0.3568 - val_wine_type_loss: 0.0182 - val_wine_quality_root_mean_squared_error: 0.5962 - val_wine_type_accuracy: 0.9987\n",
      "Epoch 86/100\n",
      "3155/3155 [==============================] - 0s 92us/sample - loss: 0.3028 - wine_quality_loss: 0.2785 - wine_type_loss: 0.0240 - wine_quality_root_mean_squared_error: 0.5280 - wine_type_accuracy: 0.9962 - val_loss: 0.3751 - val_wine_quality_loss: 0.3582 - val_wine_type_loss: 0.0181 - val_wine_quality_root_mean_squared_error: 0.5975 - val_wine_type_accuracy: 0.9987\n",
      "Epoch 87/100\n",
      "3155/3155 [==============================] - 0s 93us/sample - loss: 0.3038 - wine_quality_loss: 0.2797 - wine_type_loss: 0.0238 - wine_quality_root_mean_squared_error: 0.5290 - wine_type_accuracy: 0.9962 - val_loss: 0.3772 - val_wine_quality_loss: 0.3602 - val_wine_type_loss: 0.0180 - val_wine_quality_root_mean_squared_error: 0.5994 - val_wine_type_accuracy: 0.9987\n",
      "Epoch 88/100\n",
      "3155/3155 [==============================] - 0s 93us/sample - loss: 0.3034 - wine_quality_loss: 0.2794 - wine_type_loss: 0.0237 - wine_quality_root_mean_squared_error: 0.5288 - wine_type_accuracy: 0.9965 - val_loss: 0.3773 - val_wine_quality_loss: 0.3604 - val_wine_type_loss: 0.0180 - val_wine_quality_root_mean_squared_error: 0.5994 - val_wine_type_accuracy: 0.9987\n",
      "Epoch 89/100\n",
      "3155/3155 [==============================] - 0s 94us/sample - loss: 0.3016 - wine_quality_loss: 0.2775 - wine_type_loss: 0.0235 - wine_quality_root_mean_squared_error: 0.5272 - wine_type_accuracy: 0.9962 - val_loss: 0.3762 - val_wine_quality_loss: 0.3594 - val_wine_type_loss: 0.0179 - val_wine_quality_root_mean_squared_error: 0.5986 - val_wine_type_accuracy: 0.9987\n",
      "Epoch 90/100\n",
      "3155/3155 [==============================] - 0s 75us/sample - loss: 0.3010 - wine_quality_loss: 0.2775 - wine_type_loss: 0.0262 - wine_quality_root_mean_squared_error: 0.5267 - wine_type_accuracy: 0.9965 - val_loss: 0.3855 - val_wine_quality_loss: 0.3689 - val_wine_type_loss: 0.0178 - val_wine_quality_root_mean_squared_error: 0.6063 - val_wine_type_accuracy: 0.9987\n",
      "Epoch 91/100\n",
      "3155/3155 [==============================] - 0s 91us/sample - loss: 0.3011 - wine_quality_loss: 0.2779 - wine_type_loss: 0.0233 - wine_quality_root_mean_squared_error: 0.5269 - wine_type_accuracy: 0.9965 - val_loss: 0.3736 - val_wine_quality_loss: 0.3570 - val_wine_type_loss: 0.0178 - val_wine_quality_root_mean_squared_error: 0.5965 - val_wine_type_accuracy: 0.9987\n",
      "Epoch 92/100\n",
      "3155/3155 [==============================] - 0s 90us/sample - loss: 0.2997 - wine_quality_loss: 0.2765 - wine_type_loss: 0.0233 - wine_quality_root_mean_squared_error: 0.5257 - wine_type_accuracy: 0.9965 - val_loss: 0.3802 - val_wine_quality_loss: 0.3634 - val_wine_type_loss: 0.0177 - val_wine_quality_root_mean_squared_error: 0.6021 - val_wine_type_accuracy: 0.9987\n",
      "Epoch 93/100\n",
      "3155/3155 [==============================] - 0s 88us/sample - loss: 0.2989 - wine_quality_loss: 0.2770 - wine_type_loss: 0.0232 - wine_quality_root_mean_squared_error: 0.5250 - wine_type_accuracy: 0.9968 - val_loss: 0.3744 - val_wine_quality_loss: 0.3582 - val_wine_type_loss: 0.0176 - val_wine_quality_root_mean_squared_error: 0.5973 - val_wine_type_accuracy: 0.9987\n",
      "Epoch 94/100\n",
      "3155/3155 [==============================] - 0s 76us/sample - loss: 0.2980 - wine_quality_loss: 0.2750 - wine_type_loss: 0.0231 - wine_quality_root_mean_squared_error: 0.5243 - wine_type_accuracy: 0.9968 - val_loss: 0.3727 - val_wine_quality_loss: 0.3561 - val_wine_type_loss: 0.0176 - val_wine_quality_root_mean_squared_error: 0.5959 - val_wine_type_accuracy: 0.9987\n",
      "Epoch 95/100\n",
      "3155/3155 [==============================] - 0s 90us/sample - loss: 0.2982 - wine_quality_loss: 0.2753 - wine_type_loss: 0.0229 - wine_quality_root_mean_squared_error: 0.5246 - wine_type_accuracy: 0.9968 - val_loss: 0.3746 - val_wine_quality_loss: 0.3582 - val_wine_type_loss: 0.0175 - val_wine_quality_root_mean_squared_error: 0.5976 - val_wine_type_accuracy: 0.9987\n",
      "Epoch 96/100\n",
      "3155/3155 [==============================] - 0s 89us/sample - loss: 0.2967 - wine_quality_loss: 0.2738 - wine_type_loss: 0.0230 - wine_quality_root_mean_squared_error: 0.5232 - wine_type_accuracy: 0.9965 - val_loss: 0.3694 - val_wine_quality_loss: 0.3532 - val_wine_type_loss: 0.0174 - val_wine_quality_root_mean_squared_error: 0.5933 - val_wine_type_accuracy: 0.9987\n",
      "Epoch 97/100\n",
      "3155/3155 [==============================] - 0s 74us/sample - loss: 0.2961 - wine_quality_loss: 0.2736 - wine_type_loss: 0.0239 - wine_quality_root_mean_squared_error: 0.5228 - wine_type_accuracy: 0.9968 - val_loss: 0.3729 - val_wine_quality_loss: 0.3567 - val_wine_type_loss: 0.0174 - val_wine_quality_root_mean_squared_error: 0.5963 - val_wine_type_accuracy: 0.9987\n",
      "Epoch 98/100\n",
      "3155/3155 [==============================] - 0s 91us/sample - loss: 0.2957 - wine_quality_loss: 0.2724 - wine_type_loss: 0.0227 - wine_quality_root_mean_squared_error: 0.5224 - wine_type_accuracy: 0.9968 - val_loss: 0.3766 - val_wine_quality_loss: 0.3600 - val_wine_type_loss: 0.0173 - val_wine_quality_root_mean_squared_error: 0.5994 - val_wine_type_accuracy: 0.9987\n",
      "Epoch 99/100\n",
      "3155/3155 [==============================] - 0s 89us/sample - loss: 0.2951 - wine_quality_loss: 0.2725 - wine_type_loss: 0.0225 - wine_quality_root_mean_squared_error: 0.5220 - wine_type_accuracy: 0.9968 - val_loss: 0.3725 - val_wine_quality_loss: 0.3564 - val_wine_type_loss: 0.0172 - val_wine_quality_root_mean_squared_error: 0.5961 - val_wine_type_accuracy: 0.9987\n",
      "Epoch 100/100\n",
      "3155/3155 [==============================] - 0s 76us/sample - loss: 0.2943 - wine_quality_loss: 0.2720 - wine_type_loss: 0.0225 - wine_quality_root_mean_squared_error: 0.5213 - wine_type_accuracy: 0.9968 - val_loss: 0.3724 - val_wine_quality_loss: 0.3559 - val_wine_type_loss: 0.0172 - val_wine_quality_root_mean_squared_error: 0.5960 - val_wine_type_accuracy: 0.9987\n"
     ]
    }
   ],
   "source": [
    "# Please uncomment all lines in this cell and replace those marked with `# YOUR CODE HERE`.\n",
    "# You can select all lines in this code cell with Ctrl+A (Windows/Linux) or Cmd+A (Mac), then press Ctrl+/ (Windows/Linux) or Cmd+/ (Mac) to uncomment.\n",
    "\n",
    "\n",
    "\n",
    "history = model.fit(norm_train_X, train_Y,\n",
    "                    epochs = 100, validation_data=(norm_val_X, val_Y))"
   ]
  },
  {
   "cell_type": "code",
   "execution_count": 99,
   "metadata": {
    "deletable": false,
    "editable": false,
    "nbgrader": {
     "cell_type": "code",
     "checksum": "fadad8896eda9c8c2115970724b15508",
     "grade": true,
     "grade_id": "cell-eb4d5b41bef8f0ab",
     "locked": true,
     "points": 1,
     "schema_version": 3,
     "solution": false,
     "task": false
    }
   },
   "outputs": [
    {
     "name": "stdout",
     "output_type": "stream",
     "text": [
      "\u001b[92m All public tests passed\n"
     ]
    }
   ],
   "source": [
    "utils.test_history(history)"
   ]
  },
  {
   "cell_type": "code",
   "execution_count": 100,
   "metadata": {
    "colab": {},
    "colab_type": "code",
    "id": "CubF2J2gSf6q"
   },
   "outputs": [
    {
     "name": "stdout",
     "output_type": "stream",
     "text": [
      "789/789 [==============================] - 0s 22us/sample - loss: 0.3724 - wine_quality_loss: 0.3559 - wine_type_loss: 0.0172 - wine_quality_root_mean_squared_error: 0.5960 - wine_type_accuracy: 0.9987\n",
      "\n",
      "loss: 0.37242101376500875\n",
      "wine_quality_loss: 0.3559318780899048\n",
      "wine_type_loss: 0.017180077731609344\n",
      "wine_quality_rmse: 0.5960246920585632\n",
      "wine_type_accuracy: 0.9987325668334961\n"
     ]
    }
   ],
   "source": [
    "# Gather the training metrics\n",
    "loss, wine_quality_loss, wine_type_loss, wine_quality_rmse, wine_type_accuracy = model.evaluate(x=norm_val_X, y=val_Y)\n",
    "\n",
    "print()\n",
    "print(f'loss: {loss}')\n",
    "print(f'wine_quality_loss: {wine_quality_loss}')\n",
    "print(f'wine_type_loss: {wine_type_loss}')\n",
    "print(f'wine_quality_rmse: {wine_quality_rmse}')\n",
    "print(f'wine_type_accuracy: {wine_type_accuracy}')\n",
    "\n",
    "# EXPECTED VALUES\n",
    "# ~ 0.30 - 0.38\n",
    "# ~ 0.30 - 0.38\n",
    "# ~ 0.018 - 0.036\n",
    "# ~ 0.50 - 0.62\n",
    "# ~ 0.97 - 1.0\n",
    "\n",
    "# Example:\n",
    "#0.3657050132751465\n",
    "#0.3463745415210724\n",
    "#0.019330406561493874\n",
    "#0.5885359048843384\n",
    "#0.9974651336669922"
   ]
  },
  {
   "cell_type": "markdown",
   "metadata": {
    "colab_type": "text",
    "id": "gPtTGAP4usnm"
   },
   "source": [
    "## Analyze the Model Performance\n",
    "\n",
    "Note that the model has two outputs. The output at index 0 is quality and index 1 is wine type\n",
    "\n",
    "So, round the quality predictions to the nearest integer."
   ]
  },
  {
   "cell_type": "code",
   "execution_count": 101,
   "metadata": {
    "colab": {},
    "colab_type": "code",
    "id": "tBq9PEeAaW-Y"
   },
   "outputs": [],
   "source": [
    "predictions = model.predict(norm_test_X)\n",
    "quality_pred = predictions[0]\n",
    "type_pred = predictions[1]"
   ]
  },
  {
   "cell_type": "code",
   "execution_count": 102,
   "metadata": {
    "colab": {},
    "colab_type": "code",
    "id": "YLhgTR4xTIxj"
   },
   "outputs": [
    {
     "name": "stdout",
     "output_type": "stream",
     "text": [
      "[5.1521955]\n"
     ]
    }
   ],
   "source": [
    "print(quality_pred[0])\n",
    "\n",
    "# EXPECTED OUTPUT\n",
    "# 5.4 - 6.0"
   ]
  },
  {
   "cell_type": "code",
   "execution_count": 103,
   "metadata": {
    "colab": {},
    "colab_type": "code",
    "id": "MPi-eYfGTUXi"
   },
   "outputs": [
    {
     "name": "stdout",
     "output_type": "stream",
     "text": [
      "[0.99884534]\n",
      "[0.99906737]\n"
     ]
    }
   ],
   "source": [
    "print(type_pred[0])\n",
    "print(type_pred[944])\n",
    "\n",
    "# EXPECTED OUTPUT\n",
    "# A number close to zero\n",
    "# A number close to or equal to 1"
   ]
  },
  {
   "cell_type": "markdown",
   "metadata": {
    "colab_type": "text",
    "id": "Kohk-9C6vt_s"
   },
   "source": [
    "### Plot Utilities\n",
    "\n",
    "We define a few utilities to visualize the model performance."
   ]
  },
  {
   "cell_type": "code",
   "execution_count": 104,
   "metadata": {
    "colab": {},
    "colab_type": "code",
    "id": "62gEOFUhn6aQ"
   },
   "outputs": [],
   "source": [
    "def plot_metrics(metric_name, title, ylim=5):\n",
    "    plt.title(title)\n",
    "    plt.ylim(0,ylim)\n",
    "    plt.plot(history.history[metric_name],color='blue',label=metric_name)\n",
    "    plt.plot(history.history['val_' + metric_name],color='green',label='val_' + metric_name)\n"
   ]
  },
  {
   "cell_type": "code",
   "execution_count": 105,
   "metadata": {
    "colab": {},
    "colab_type": "code",
    "id": "6rfgSx7uz5dj"
   },
   "outputs": [],
   "source": [
    "def plot_confusion_matrix(y_true, y_pred, title='', labels=[0,1]):\n",
    "    cm = confusion_matrix(test_Y[1], np.round(type_pred), labels=[0, 1])\n",
    "    disp = ConfusionMatrixDisplay(confusion_matrix=cm,\n",
    "                                  display_labels=[0, 1])\n",
    "    disp.plot(values_format='d');"
   ]
  },
  {
   "cell_type": "code",
   "execution_count": 106,
   "metadata": {
    "colab": {},
    "colab_type": "code",
    "id": "dfVLIqi017Vf"
   },
   "outputs": [],
   "source": [
    "def plot_diff(y_true, y_pred, title = '' ):\n",
    "    plt.scatter(y_true, y_pred)\n",
    "    plt.title(title)\n",
    "    plt.xlabel('True Values')\n",
    "    plt.ylabel('Predictions')\n",
    "    plt.axis('equal')\n",
    "    plt.axis('square')\n",
    "    plt.plot([-100, 100], [-100, 100])\n",
    "    return plt"
   ]
  },
  {
   "cell_type": "markdown",
   "metadata": {
    "colab_type": "text",
    "id": "8sd1jdFbwE0I"
   },
   "source": [
    "### Plots for Metrics"
   ]
  },
  {
   "cell_type": "code",
   "execution_count": 107,
   "metadata": {
    "colab": {},
    "colab_type": "code",
    "id": "f3MwZ5J1pOfj"
   },
   "outputs": [
    {
     "data": {
      "image/png": "[encoded data removed]",
      "text/plain": [
       "<Figure size 432x288 with 1 Axes>"
      ]
     },
     "metadata": {
      "needs_background": "light"
     },
     "output_type": "display_data"
    }
   ],
   "source": [
    "plot_metrics('wine_quality_root_mean_squared_error', 'RMSE', ylim=2)"
   ]
  },
  {
   "cell_type": "code",
   "execution_count": 108,
   "metadata": {
    "colab": {},
    "colab_type": "code",
    "id": "QIAxEezCppnd"
   },
   "outputs": [
    {
     "data": {
      "image/png": "[encoded data removed]",
      "text/plain": [
       "<Figure size 432x288 with 1 Axes>"
      ]
     },
     "metadata": {
      "needs_background": "light"
     },
     "output_type": "display_data"
    }
   ],
   "source": [
    "plot_metrics('wine_type_loss', 'Wine Type Loss', ylim=0.2)"
   ]
  },
  {
   "cell_type": "markdown",
   "metadata": {
    "colab_type": "text",
    "id": "uYV9AOAMwI9p"
   },
   "source": [
    "### Plots for Confusion Matrix\n",
    "\n",
    "Plot the confusion matrices for wine type. You can see that the model performs well for prediction of wine type from the confusion matrix and the loss metrics."
   ]
  },
  {
   "cell_type": "code",
   "execution_count": 109,
   "metadata": {
    "colab": {},
    "colab_type": "code",
    "id": "C3hvTYxIaf3n"
   },
   "outputs": [
    {
     "data": {
      "image/png": "[encoded data removed]",
      "text/plain": [
       "<Figure size 432x288 with 2 Axes>"
      ]
     },
     "metadata": {
      "needs_background": "light"
     },
     "output_type": "display_data"
    }
   ],
   "source": [
    "plot_confusion_matrix(test_Y[1], np.round(type_pred), title='Wine Type', labels = [0, 1])"
   ]
  },
  {
   "cell_type": "code",
   "execution_count": 110,
   "metadata": {
    "colab": {},
    "colab_type": "code",
    "id": "GW91ym8P2I5y"
   },
   "outputs": [
    {
     "data": {
      "image/png": "[encoded data removed]",
      "text/plain": [
       "<Figure size 432x288 with 1 Axes>"
      ]
     },
     "metadata": {
      "needs_background": "light"
     },
     "output_type": "display_data"
    }
   ],
   "source": [
    "scatter_plot = plot_diff(test_Y[0], quality_pred, title='Type')"
   ]
  },
  {
   "cell_type": "markdown",
   "metadata": {},
   "source": [
    "## Submit your work\n",
    "\n",
    "Save your work and click the `Submit` button on the upper right of this lab environment (see the image below for reference). If you don't see it, please try refreshing your browser and check again. If the issue persists, please report it on the [DLAI Forum](https://community.deeplearning.ai/?utm_campaign=forum-engagement&utm_medium=long-form-courses&utm_source=coursera).\n",
    "\n",
    "<img src='submit.png' width=200px>"
   ]
  }
 ],
 "metadata": {
  "colab": {
   "include_colab_link": true,
   "name": "exercise-answer.ipynb",
   "provenance": []
  },
  "kernelspec": {
   "display_name": "Python 3",
   "language": "python",
   "name": "python3"
  },
  "language_info": {
   "codemirror_mode": {
    "name": "ipython",
    "version": 3
   },
   "file_extension": ".py",
   "mimetype": "text/x-python",
   "name": "python",
   "nbconvert_exporter": "python",
   "pygments_lexer": "ipython3",
   "version": "3.7.6"
  }
 },
 "nbformat": 4,
 "nbformat_minor": 4
}
